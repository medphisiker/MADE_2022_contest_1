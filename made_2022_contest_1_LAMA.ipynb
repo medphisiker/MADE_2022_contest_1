{
 "cells": [
  {
   "cell_type": "markdown",
   "metadata": {},
   "source": [
    "# Описание конкурса\n",
    "\n",
    "Машинное обучение: часть 1\n",
    "\n",
    "Сроки проведения: 07.08.22 - 22.08.22\n",
    "\n",
    "До конца осталось:13 дней:22 часа\n",
    "\n",
    "Баллы за каждую задачу вычисляются на основе загруженных предсказаний для соответствующего тестового набора данных. В обеих задачах тестовый набор предварительно разделен на две части: публичную (public, 45%) и приватную (private, 55%). Каждый раз после загрузки решения участнику отображаются баллы, посчитанные на публичной части. Они не видны другим участникам соревнования. Далее после завершения соревнования в качестве итоговых баллов за задачу берутся баллы, посчитанные на соответствующей приватной части в лучшем загруженном участником решении.\n",
    "\n",
    "Обращаем внимание, что участник должен отправить предсказания для всего тестового набора."
   ]
  },
  {
   "cell_type": "markdown",
   "metadata": {},
   "source": [
    "# Рабочее окружение\n",
    "\n",
    "Для библиотеки Sber LAMA требуется специфические версии PyTorch и других библиотек. Лучше создть conda отдельное рабочее окружение:\n",
    "\n",
    "    conda create -n sber_lama python=3.9.7\n",
    "\n",
    "с той же версией python, что и в окружении base. И уже потом находясь в этом окружении выполнить команду по устновке lighautoml:\n",
    "\n",
    "    !pip install -U lightautoml\n",
    "\n",
    "Менеджер пакетов сам установит все нужные зависисмоти нужных версий."
   ]
  },
  {
   "cell_type": "code",
   "execution_count": 12,
   "metadata": {},
   "outputs": [
    {
     "name": "stdout",
     "output_type": "stream",
     "text": [
      "processor\t: 0\n",
      "vendor_id\t: GenuineIntel\n",
      "cpu family\t: 6\n",
      "model\t\t: 151\n",
      "model name\t: 12th Gen Intel(R) Core(TM) i5-12600\n",
      "stepping\t: 5\n",
      "microcode\t: 0x1f\n",
      "cpu MHz\t\t: 3300.000\n",
      "cache size\t: 18432 KB\n",
      "physical id\t: 0\n",
      "siblings\t: 12\n",
      "core id\t\t: 0\n",
      "cpu cores\t: 6\n",
      "apicid\t\t: 0\n",
      "initial apicid\t: 0\n",
      "fpu\t\t: yes\n",
      "fpu_exception\t: yes\n",
      "cpuid level\t: 32\n",
      "wp\t\t: yes\n",
      "flags\t\t: fpu vme de pse tsc msr pae mce cx8 apic sep mtrr pge mca cmov pat pse36 clflush dts acpi mmx fxsr sse sse2 ss ht tm pbe syscall nx pdpe1gb rdtscp lm constant_tsc art arch_perfmon pebs bts rep_good nopl xtopology nonstop_tsc cpuid aperfmperf tsc_known_freq pni pclmulqdq dtes64 monitor ds_cpl vmx smx est tm2 ssse3 sdbg fma cx16 xtpr pdcm pcid sse4_1 sse4_2 x2apic movbe popcnt tsc_deadline_timer aes xsave avx f16c rdrand lahf_lm abm 3dnowprefetch cpuid_fault epb invpcid_single ssbd ibrs ibpb stibp ibrs_enhanced tpr_shadow vnmi flexpriority ept vpid ept_ad fsgsbase tsc_adjust bmi1 avx2 smep bmi2 erms invpcid rdseed adx smap clflushopt clwb intel_pt sha_ni xsaveopt xsavec xgetbv1 xsaves split_lock_detect avx_vnni dtherm ida arat pln pts hwp hwp_notify hwp_act_window hwp_epp hwp_pkg_req umip pku ospke waitpkg gfni vaes vpclmulqdq tme rdpid movdiri movdir64b fsrm md_clear serialize pconfig arch_lbr flush_l1d arch_capabilities\n",
      "vmx flags\t: vnmi preemption_timer posted_intr invvpid ept_x_only ept_ad ept_1gb flexpriority apicv tsc_offset vtpr mtf vapic ept vpid unrestricted_guest vapic_reg vid ple shadow_vmcs pml ept_mode_based_exec tsc_scaling usr_wait_pause\n",
      "bugs\t\t: spectre_v1 spectre_v2 spec_store_bypass swapgs\n",
      "bogomips\t: 6604.80\n",
      "clflush size\t: 64\n",
      "cache_alignment\t: 64\n",
      "address sizes\t: 46 bits physical, 48 bits virtual\n",
      "power management:\n",
      "\n",
      "processor\t: 1\n",
      "vendor_id\t: GenuineIntel\n",
      "cpu family\t: 6\n",
      "model\t\t: 151\n",
      "model name\t: 12th Gen Intel(R) Core(TM) i5-12600\n",
      "stepping\t: 5\n",
      "microcode\t: 0x1f\n",
      "cpu MHz\t\t: 3300.000\n",
      "cache size\t: 18432 KB\n",
      "physical id\t: 0\n",
      "siblings\t: 12\n",
      "core id\t\t: 0\n",
      "cpu cores\t: 6\n",
      "apicid\t\t: 1\n",
      "initial apicid\t: 1\n",
      "fpu\t\t: yes\n",
      "fpu_exception\t: yes\n",
      "cpuid level\t: 32\n",
      "wp\t\t: yes\n",
      "flags\t\t: fpu vme de pse tsc msr pae mce cx8 apic sep mtrr pge mca cmov pat pse36 clflush dts acpi mmx fxsr sse sse2 ss ht tm pbe syscall nx pdpe1gb rdtscp lm constant_tsc art arch_perfmon pebs bts rep_good nopl xtopology nonstop_tsc cpuid aperfmperf tsc_known_freq pni pclmulqdq dtes64 monitor ds_cpl vmx smx est tm2 ssse3 sdbg fma cx16 xtpr pdcm pcid sse4_1 sse4_2 x2apic movbe popcnt tsc_deadline_timer aes xsave avx f16c rdrand lahf_lm abm 3dnowprefetch cpuid_fault epb invpcid_single ssbd ibrs ibpb stibp ibrs_enhanced tpr_shadow vnmi flexpriority ept vpid ept_ad fsgsbase tsc_adjust bmi1 avx2 smep bmi2 erms invpcid rdseed adx smap clflushopt clwb intel_pt sha_ni xsaveopt xsavec xgetbv1 xsaves split_lock_detect avx_vnni dtherm ida arat pln pts hwp hwp_notify hwp_act_window hwp_epp hwp_pkg_req umip pku ospke waitpkg gfni vaes vpclmulqdq tme rdpid movdiri movdir64b fsrm md_clear serialize pconfig arch_lbr flush_l1d arch_capabilities\n",
      "vmx flags\t: vnmi preemption_timer posted_intr invvpid ept_x_only ept_ad ept_1gb flexpriority apicv tsc_offset vtpr mtf vapic ept vpid unrestricted_guest vapic_reg vid ple shadow_vmcs pml ept_mode_based_exec tsc_scaling usr_wait_pause\n",
      "bugs\t\t: spectre_v1 spectre_v2 spec_store_bypass swapgs\n",
      "bogomips\t: 6604.80\n",
      "clflush size\t: 64\n",
      "cache_alignment\t: 64\n",
      "address sizes\t: 46 bits physical, 48 bits virtual\n",
      "power management:\n",
      "\n",
      "processor\t: 2\n",
      "vendor_id\t: GenuineIntel\n",
      "cpu family\t: 6\n",
      "model\t\t: 151\n",
      "model name\t: 12th Gen Intel(R) Core(TM) i5-12600\n",
      "stepping\t: 5\n",
      "microcode\t: 0x1f\n",
      "cpu MHz\t\t: 4169.217\n",
      "cache size\t: 18432 KB\n",
      "physical id\t: 0\n",
      "siblings\t: 12\n",
      "core id\t\t: 1\n",
      "cpu cores\t: 6\n",
      "apicid\t\t: 2\n",
      "initial apicid\t: 2\n",
      "fpu\t\t: yes\n",
      "fpu_exception\t: yes\n",
      "cpuid level\t: 32\n",
      "wp\t\t: yes\n",
      "flags\t\t: fpu vme de pse tsc msr pae mce cx8 apic sep mtrr pge mca cmov pat pse36 clflush dts acpi mmx fxsr sse sse2 ss ht tm pbe syscall nx pdpe1gb rdtscp lm constant_tsc art arch_perfmon pebs bts rep_good nopl xtopology nonstop_tsc cpuid aperfmperf tsc_known_freq pni pclmulqdq dtes64 monitor ds_cpl vmx smx est tm2 ssse3 sdbg fma cx16 xtpr pdcm pcid sse4_1 sse4_2 x2apic movbe popcnt tsc_deadline_timer aes xsave avx f16c rdrand lahf_lm abm 3dnowprefetch cpuid_fault epb invpcid_single ssbd ibrs ibpb stibp ibrs_enhanced tpr_shadow vnmi flexpriority ept vpid ept_ad fsgsbase tsc_adjust bmi1 avx2 smep bmi2 erms invpcid rdseed adx smap clflushopt clwb intel_pt sha_ni xsaveopt xsavec xgetbv1 xsaves split_lock_detect avx_vnni dtherm ida arat pln pts hwp hwp_notify hwp_act_window hwp_epp hwp_pkg_req umip pku ospke waitpkg gfni vaes vpclmulqdq tme rdpid movdiri movdir64b fsrm md_clear serialize pconfig arch_lbr flush_l1d arch_capabilities\n",
      "vmx flags\t: vnmi preemption_timer posted_intr invvpid ept_x_only ept_ad ept_1gb flexpriority apicv tsc_offset vtpr mtf vapic ept vpid unrestricted_guest vapic_reg vid ple shadow_vmcs pml ept_mode_based_exec tsc_scaling usr_wait_pause\n",
      "bugs\t\t: spectre_v1 spectre_v2 spec_store_bypass swapgs\n",
      "bogomips\t: 6604.80\n",
      "clflush size\t: 64\n",
      "cache_alignment\t: 64\n",
      "address sizes\t: 46 bits physical, 48 bits virtual\n",
      "power management:\n",
      "\n",
      "processor\t: 3\n",
      "vendor_id\t: GenuineIntel\n",
      "cpu family\t: 6\n",
      "model\t\t: 151\n",
      "model name\t: 12th Gen Intel(R) Core(TM) i5-12600\n",
      "stepping\t: 5\n",
      "microcode\t: 0x1f\n",
      "cpu MHz\t\t: 3300.000\n",
      "cache size\t: 18432 KB\n",
      "physical id\t: 0\n",
      "siblings\t: 12\n",
      "core id\t\t: 1\n",
      "cpu cores\t: 6\n",
      "apicid\t\t: 3\n",
      "initial apicid\t: 3\n",
      "fpu\t\t: yes\n",
      "fpu_exception\t: yes\n",
      "cpuid level\t: 32\n",
      "wp\t\t: yes\n",
      "flags\t\t: fpu vme de pse tsc msr pae mce cx8 apic sep mtrr pge mca cmov pat pse36 clflush dts acpi mmx fxsr sse sse2 ss ht tm pbe syscall nx pdpe1gb rdtscp lm constant_tsc art arch_perfmon pebs bts rep_good nopl xtopology nonstop_tsc cpuid aperfmperf tsc_known_freq pni pclmulqdq dtes64 monitor ds_cpl vmx smx est tm2 ssse3 sdbg fma cx16 xtpr pdcm pcid sse4_1 sse4_2 x2apic movbe popcnt tsc_deadline_timer aes xsave avx f16c rdrand lahf_lm abm 3dnowprefetch cpuid_fault epb invpcid_single ssbd ibrs ibpb stibp ibrs_enhanced tpr_shadow vnmi flexpriority ept vpid ept_ad fsgsbase tsc_adjust bmi1 avx2 smep bmi2 erms invpcid rdseed adx smap clflushopt clwb intel_pt sha_ni xsaveopt xsavec xgetbv1 xsaves split_lock_detect avx_vnni dtherm ida arat pln pts hwp hwp_notify hwp_act_window hwp_epp hwp_pkg_req umip pku ospke waitpkg gfni vaes vpclmulqdq tme rdpid movdiri movdir64b fsrm md_clear serialize pconfig arch_lbr flush_l1d arch_capabilities\n",
      "vmx flags\t: vnmi preemption_timer posted_intr invvpid ept_x_only ept_ad ept_1gb flexpriority apicv tsc_offset vtpr mtf vapic ept vpid unrestricted_guest vapic_reg vid ple shadow_vmcs pml ept_mode_based_exec tsc_scaling usr_wait_pause\n",
      "bugs\t\t: spectre_v1 spectre_v2 spec_store_bypass swapgs\n",
      "bogomips\t: 6604.80\n",
      "clflush size\t: 64\n",
      "cache_alignment\t: 64\n",
      "address sizes\t: 46 bits physical, 48 bits virtual\n",
      "power management:\n",
      "\n",
      "processor\t: 4\n",
      "vendor_id\t: GenuineIntel\n",
      "cpu family\t: 6\n",
      "model\t\t: 151\n",
      "model name\t: 12th Gen Intel(R) Core(TM) i5-12600\n",
      "stepping\t: 5\n",
      "microcode\t: 0x1f\n",
      "cpu MHz\t\t: 3300.000\n",
      "cache size\t: 18432 KB\n",
      "physical id\t: 0\n",
      "siblings\t: 12\n",
      "core id\t\t: 2\n",
      "cpu cores\t: 6\n",
      "apicid\t\t: 4\n",
      "initial apicid\t: 4\n",
      "fpu\t\t: yes\n",
      "fpu_exception\t: yes\n",
      "cpuid level\t: 32\n",
      "wp\t\t: yes\n",
      "flags\t\t: fpu vme de pse tsc msr pae mce cx8 apic sep mtrr pge mca cmov pat pse36 clflush dts acpi mmx fxsr sse sse2 ss ht tm pbe syscall nx pdpe1gb rdtscp lm constant_tsc art arch_perfmon pebs bts rep_good nopl xtopology nonstop_tsc cpuid aperfmperf tsc_known_freq pni pclmulqdq dtes64 monitor ds_cpl vmx smx est tm2 ssse3 sdbg fma cx16 xtpr pdcm pcid sse4_1 sse4_2 x2apic movbe popcnt tsc_deadline_timer aes xsave avx f16c rdrand lahf_lm abm 3dnowprefetch cpuid_fault epb invpcid_single ssbd ibrs ibpb stibp ibrs_enhanced tpr_shadow vnmi flexpriority ept vpid ept_ad fsgsbase tsc_adjust bmi1 avx2 smep bmi2 erms invpcid rdseed adx smap clflushopt clwb intel_pt sha_ni xsaveopt xsavec xgetbv1 xsaves split_lock_detect avx_vnni dtherm ida arat pln pts hwp hwp_notify hwp_act_window hwp_epp hwp_pkg_req umip pku ospke waitpkg gfni vaes vpclmulqdq tme rdpid movdiri movdir64b fsrm md_clear serialize pconfig arch_lbr flush_l1d arch_capabilities\n",
      "vmx flags\t: vnmi preemption_timer posted_intr invvpid ept_x_only ept_ad ept_1gb flexpriority apicv tsc_offset vtpr mtf vapic ept vpid unrestricted_guest vapic_reg vid ple shadow_vmcs pml ept_mode_based_exec tsc_scaling usr_wait_pause\n",
      "bugs\t\t: spectre_v1 spectre_v2 spec_store_bypass swapgs\n",
      "bogomips\t: 6604.80\n",
      "clflush size\t: 64\n",
      "cache_alignment\t: 64\n",
      "address sizes\t: 46 bits physical, 48 bits virtual\n",
      "power management:\n",
      "\n",
      "processor\t: 5\n",
      "vendor_id\t: GenuineIntel\n",
      "cpu family\t: 6\n",
      "model\t\t: 151\n",
      "model name\t: 12th Gen Intel(R) Core(TM) i5-12600\n",
      "stepping\t: 5\n",
      "microcode\t: 0x1f\n",
      "cpu MHz\t\t: 3300.000\n",
      "cache size\t: 18432 KB\n",
      "physical id\t: 0\n",
      "siblings\t: 12\n",
      "core id\t\t: 2\n",
      "cpu cores\t: 6\n",
      "apicid\t\t: 5\n",
      "initial apicid\t: 5\n",
      "fpu\t\t: yes\n",
      "fpu_exception\t: yes\n",
      "cpuid level\t: 32\n",
      "wp\t\t: yes\n",
      "flags\t\t: fpu vme de pse tsc msr pae mce cx8 apic sep mtrr pge mca cmov pat pse36 clflush dts acpi mmx fxsr sse sse2 ss ht tm pbe syscall nx pdpe1gb rdtscp lm constant_tsc art arch_perfmon pebs bts rep_good nopl xtopology nonstop_tsc cpuid aperfmperf tsc_known_freq pni pclmulqdq dtes64 monitor ds_cpl vmx smx est tm2 ssse3 sdbg fma cx16 xtpr pdcm pcid sse4_1 sse4_2 x2apic movbe popcnt tsc_deadline_timer aes xsave avx f16c rdrand lahf_lm abm 3dnowprefetch cpuid_fault epb invpcid_single ssbd ibrs ibpb stibp ibrs_enhanced tpr_shadow vnmi flexpriority ept vpid ept_ad fsgsbase tsc_adjust bmi1 avx2 smep bmi2 erms invpcid rdseed adx smap clflushopt clwb intel_pt sha_ni xsaveopt xsavec xgetbv1 xsaves split_lock_detect avx_vnni dtherm ida arat pln pts hwp hwp_notify hwp_act_window hwp_epp hwp_pkg_req umip pku ospke waitpkg gfni vaes vpclmulqdq tme rdpid movdiri movdir64b fsrm md_clear serialize pconfig arch_lbr flush_l1d arch_capabilities\n",
      "vmx flags\t: vnmi preemption_timer posted_intr invvpid ept_x_only ept_ad ept_1gb flexpriority apicv tsc_offset vtpr mtf vapic ept vpid unrestricted_guest vapic_reg vid ple shadow_vmcs pml ept_mode_based_exec tsc_scaling usr_wait_pause\n",
      "bugs\t\t: spectre_v1 spectre_v2 spec_store_bypass swapgs\n",
      "bogomips\t: 6604.80\n",
      "clflush size\t: 64\n",
      "cache_alignment\t: 64\n",
      "address sizes\t: 46 bits physical, 48 bits virtual\n",
      "power management:\n",
      "\n",
      "processor\t: 6\n",
      "vendor_id\t: GenuineIntel\n",
      "cpu family\t: 6\n",
      "model\t\t: 151\n",
      "model name\t: 12th Gen Intel(R) Core(TM) i5-12600\n",
      "stepping\t: 5\n",
      "microcode\t: 0x1f\n",
      "cpu MHz\t\t: 3300.000\n",
      "cache size\t: 18432 KB\n",
      "physical id\t: 0\n",
      "siblings\t: 12\n",
      "core id\t\t: 3\n",
      "cpu cores\t: 6\n",
      "apicid\t\t: 6\n",
      "initial apicid\t: 6\n",
      "fpu\t\t: yes\n",
      "fpu_exception\t: yes\n",
      "cpuid level\t: 32\n",
      "wp\t\t: yes\n",
      "flags\t\t: fpu vme de pse tsc msr pae mce cx8 apic sep mtrr pge mca cmov pat pse36 clflush dts acpi mmx fxsr sse sse2 ss ht tm pbe syscall nx pdpe1gb rdtscp lm constant_tsc art arch_perfmon pebs bts rep_good nopl xtopology nonstop_tsc cpuid aperfmperf tsc_known_freq pni pclmulqdq dtes64 monitor ds_cpl vmx smx est tm2 ssse3 sdbg fma cx16 xtpr pdcm pcid sse4_1 sse4_2 x2apic movbe popcnt tsc_deadline_timer aes xsave avx f16c rdrand lahf_lm abm 3dnowprefetch cpuid_fault epb invpcid_single ssbd ibrs ibpb stibp ibrs_enhanced tpr_shadow vnmi flexpriority ept vpid ept_ad fsgsbase tsc_adjust bmi1 avx2 smep bmi2 erms invpcid rdseed adx smap clflushopt clwb intel_pt sha_ni xsaveopt xsavec xgetbv1 xsaves split_lock_detect avx_vnni dtherm ida arat pln pts hwp hwp_notify hwp_act_window hwp_epp hwp_pkg_req umip pku ospke waitpkg gfni vaes vpclmulqdq tme rdpid movdiri movdir64b fsrm md_clear serialize pconfig arch_lbr flush_l1d arch_capabilities\n",
      "vmx flags\t: vnmi preemption_timer posted_intr invvpid ept_x_only ept_ad ept_1gb flexpriority apicv tsc_offset vtpr mtf vapic ept vpid unrestricted_guest vapic_reg vid ple shadow_vmcs pml ept_mode_based_exec tsc_scaling usr_wait_pause\n",
      "bugs\t\t: spectre_v1 spectre_v2 spec_store_bypass swapgs\n",
      "bogomips\t: 6604.80\n",
      "clflush size\t: 64\n",
      "cache_alignment\t: 64\n",
      "address sizes\t: 46 bits physical, 48 bits virtual\n",
      "power management:\n",
      "\n",
      "processor\t: 7\n",
      "vendor_id\t: GenuineIntel\n",
      "cpu family\t: 6\n",
      "model\t\t: 151\n",
      "model name\t: 12th Gen Intel(R) Core(TM) i5-12600\n",
      "stepping\t: 5\n",
      "microcode\t: 0x1f\n",
      "cpu MHz\t\t: 3300.000\n",
      "cache size\t: 18432 KB\n",
      "physical id\t: 0\n",
      "siblings\t: 12\n",
      "core id\t\t: 3\n",
      "cpu cores\t: 6\n",
      "apicid\t\t: 7\n",
      "initial apicid\t: 7\n",
      "fpu\t\t: yes\n",
      "fpu_exception\t: yes\n",
      "cpuid level\t: 32\n",
      "wp\t\t: yes\n",
      "flags\t\t: fpu vme de pse tsc msr pae mce cx8 apic sep mtrr pge mca cmov pat pse36 clflush dts acpi mmx fxsr sse sse2 ss ht tm pbe syscall nx pdpe1gb rdtscp lm constant_tsc art arch_perfmon pebs bts rep_good nopl xtopology nonstop_tsc cpuid aperfmperf tsc_known_freq pni pclmulqdq dtes64 monitor ds_cpl vmx smx est tm2 ssse3 sdbg fma cx16 xtpr pdcm pcid sse4_1 sse4_2 x2apic movbe popcnt tsc_deadline_timer aes xsave avx f16c rdrand lahf_lm abm 3dnowprefetch cpuid_fault epb invpcid_single ssbd ibrs ibpb stibp ibrs_enhanced tpr_shadow vnmi flexpriority ept vpid ept_ad fsgsbase tsc_adjust bmi1 avx2 smep bmi2 erms invpcid rdseed adx smap clflushopt clwb intel_pt sha_ni xsaveopt xsavec xgetbv1 xsaves split_lock_detect avx_vnni dtherm ida arat pln pts hwp hwp_notify hwp_act_window hwp_epp hwp_pkg_req umip pku ospke waitpkg gfni vaes vpclmulqdq tme rdpid movdiri movdir64b fsrm md_clear serialize pconfig arch_lbr flush_l1d arch_capabilities\n",
      "vmx flags\t: vnmi preemption_timer posted_intr invvpid ept_x_only ept_ad ept_1gb flexpriority apicv tsc_offset vtpr mtf vapic ept vpid unrestricted_guest vapic_reg vid ple shadow_vmcs pml ept_mode_based_exec tsc_scaling usr_wait_pause\n",
      "bugs\t\t: spectre_v1 spectre_v2 spec_store_bypass swapgs\n",
      "bogomips\t: 6604.80\n",
      "clflush size\t: 64\n",
      "cache_alignment\t: 64\n",
      "address sizes\t: 46 bits physical, 48 bits virtual\n",
      "power management:\n",
      "\n",
      "processor\t: 8\n",
      "vendor_id\t: GenuineIntel\n",
      "cpu family\t: 6\n",
      "model\t\t: 151\n",
      "model name\t: 12th Gen Intel(R) Core(TM) i5-12600\n",
      "stepping\t: 5\n",
      "microcode\t: 0x1f\n",
      "cpu MHz\t\t: 3300.000\n",
      "cache size\t: 18432 KB\n",
      "physical id\t: 0\n",
      "siblings\t: 12\n",
      "core id\t\t: 4\n",
      "cpu cores\t: 6\n",
      "apicid\t\t: 8\n",
      "initial apicid\t: 8\n",
      "fpu\t\t: yes\n",
      "fpu_exception\t: yes\n",
      "cpuid level\t: 32\n",
      "wp\t\t: yes\n",
      "flags\t\t: fpu vme de pse tsc msr pae mce cx8 apic sep mtrr pge mca cmov pat pse36 clflush dts acpi mmx fxsr sse sse2 ss ht tm pbe syscall nx pdpe1gb rdtscp lm constant_tsc art arch_perfmon pebs bts rep_good nopl xtopology nonstop_tsc cpuid aperfmperf tsc_known_freq pni pclmulqdq dtes64 monitor ds_cpl vmx smx est tm2 ssse3 sdbg fma cx16 xtpr pdcm pcid sse4_1 sse4_2 x2apic movbe popcnt tsc_deadline_timer aes xsave avx f16c rdrand lahf_lm abm 3dnowprefetch cpuid_fault epb invpcid_single ssbd ibrs ibpb stibp ibrs_enhanced tpr_shadow vnmi flexpriority ept vpid ept_ad fsgsbase tsc_adjust bmi1 avx2 smep bmi2 erms invpcid rdseed adx smap clflushopt clwb intel_pt sha_ni xsaveopt xsavec xgetbv1 xsaves split_lock_detect avx_vnni dtherm ida arat pln pts hwp hwp_notify hwp_act_window hwp_epp hwp_pkg_req umip pku ospke waitpkg gfni vaes vpclmulqdq tme rdpid movdiri movdir64b fsrm md_clear serialize pconfig arch_lbr flush_l1d arch_capabilities\n",
      "vmx flags\t: vnmi preemption_timer posted_intr invvpid ept_x_only ept_ad ept_1gb flexpriority apicv tsc_offset vtpr mtf vapic ept vpid unrestricted_guest vapic_reg vid ple shadow_vmcs pml ept_mode_based_exec tsc_scaling usr_wait_pause\n",
      "bugs\t\t: spectre_v1 spectre_v2 spec_store_bypass swapgs\n",
      "bogomips\t: 6604.80\n",
      "clflush size\t: 64\n",
      "cache_alignment\t: 64\n",
      "address sizes\t: 46 bits physical, 48 bits virtual\n",
      "power management:\n",
      "\n",
      "processor\t: 9\n",
      "vendor_id\t: GenuineIntel\n",
      "cpu family\t: 6\n",
      "model\t\t: 151\n",
      "model name\t: 12th Gen Intel(R) Core(TM) i5-12600\n",
      "stepping\t: 5\n",
      "microcode\t: 0x1f\n",
      "cpu MHz\t\t: 3300.000\n",
      "cache size\t: 18432 KB\n",
      "physical id\t: 0\n",
      "siblings\t: 12\n",
      "core id\t\t: 4\n",
      "cpu cores\t: 6\n",
      "apicid\t\t: 9\n",
      "initial apicid\t: 9\n",
      "fpu\t\t: yes\n",
      "fpu_exception\t: yes\n",
      "cpuid level\t: 32\n",
      "wp\t\t: yes\n",
      "flags\t\t: fpu vme de pse tsc msr pae mce cx8 apic sep mtrr pge mca cmov pat pse36 clflush dts acpi mmx fxsr sse sse2 ss ht tm pbe syscall nx pdpe1gb rdtscp lm constant_tsc art arch_perfmon pebs bts rep_good nopl xtopology nonstop_tsc cpuid aperfmperf tsc_known_freq pni pclmulqdq dtes64 monitor ds_cpl vmx smx est tm2 ssse3 sdbg fma cx16 xtpr pdcm pcid sse4_1 sse4_2 x2apic movbe popcnt tsc_deadline_timer aes xsave avx f16c rdrand lahf_lm abm 3dnowprefetch cpuid_fault epb invpcid_single ssbd ibrs ibpb stibp ibrs_enhanced tpr_shadow vnmi flexpriority ept vpid ept_ad fsgsbase tsc_adjust bmi1 avx2 smep bmi2 erms invpcid rdseed adx smap clflushopt clwb intel_pt sha_ni xsaveopt xsavec xgetbv1 xsaves split_lock_detect avx_vnni dtherm ida arat pln pts hwp hwp_notify hwp_act_window hwp_epp hwp_pkg_req umip pku ospke waitpkg gfni vaes vpclmulqdq tme rdpid movdiri movdir64b fsrm md_clear serialize pconfig arch_lbr flush_l1d arch_capabilities\n",
      "vmx flags\t: vnmi preemption_timer posted_intr invvpid ept_x_only ept_ad ept_1gb flexpriority apicv tsc_offset vtpr mtf vapic ept vpid unrestricted_guest vapic_reg vid ple shadow_vmcs pml ept_mode_based_exec tsc_scaling usr_wait_pause\n",
      "bugs\t\t: spectre_v1 spectre_v2 spec_store_bypass swapgs\n",
      "bogomips\t: 6604.80\n",
      "clflush size\t: 64\n",
      "cache_alignment\t: 64\n",
      "address sizes\t: 46 bits physical, 48 bits virtual\n",
      "power management:\n",
      "\n",
      "processor\t: 10\n",
      "vendor_id\t: GenuineIntel\n",
      "cpu family\t: 6\n",
      "model\t\t: 151\n",
      "model name\t: 12th Gen Intel(R) Core(TM) i5-12600\n",
      "stepping\t: 5\n",
      "microcode\t: 0x1f\n",
      "cpu MHz\t\t: 3300.000\n",
      "cache size\t: 18432 KB\n",
      "physical id\t: 0\n",
      "siblings\t: 12\n",
      "core id\t\t: 5\n",
      "cpu cores\t: 6\n",
      "apicid\t\t: 10\n",
      "initial apicid\t: 10\n",
      "fpu\t\t: yes\n",
      "fpu_exception\t: yes\n",
      "cpuid level\t: 32\n",
      "wp\t\t: yes\n",
      "flags\t\t: fpu vme de pse tsc msr pae mce cx8 apic sep mtrr pge mca cmov pat pse36 clflush dts acpi mmx fxsr sse sse2 ss ht tm pbe syscall nx pdpe1gb rdtscp lm constant_tsc art arch_perfmon pebs bts rep_good nopl xtopology nonstop_tsc cpuid aperfmperf tsc_known_freq pni pclmulqdq dtes64 monitor ds_cpl vmx smx est tm2 ssse3 sdbg fma cx16 xtpr pdcm pcid sse4_1 sse4_2 x2apic movbe popcnt tsc_deadline_timer aes xsave avx f16c rdrand lahf_lm abm 3dnowprefetch cpuid_fault epb invpcid_single ssbd ibrs ibpb stibp ibrs_enhanced tpr_shadow vnmi flexpriority ept vpid ept_ad fsgsbase tsc_adjust bmi1 avx2 smep bmi2 erms invpcid rdseed adx smap clflushopt clwb intel_pt sha_ni xsaveopt xsavec xgetbv1 xsaves split_lock_detect avx_vnni dtherm ida arat pln pts hwp hwp_notify hwp_act_window hwp_epp hwp_pkg_req umip pku ospke waitpkg gfni vaes vpclmulqdq tme rdpid movdiri movdir64b fsrm md_clear serialize pconfig arch_lbr flush_l1d arch_capabilities\n",
      "vmx flags\t: vnmi preemption_timer posted_intr invvpid ept_x_only ept_ad ept_1gb flexpriority apicv tsc_offset vtpr mtf vapic ept vpid unrestricted_guest vapic_reg vid ple shadow_vmcs pml ept_mode_based_exec tsc_scaling usr_wait_pause\n",
      "bugs\t\t: spectre_v1 spectre_v2 spec_store_bypass swapgs\n",
      "bogomips\t: 6604.80\n",
      "clflush size\t: 64\n",
      "cache_alignment\t: 64\n",
      "address sizes\t: 46 bits physical, 48 bits virtual\n",
      "power management:\n",
      "\n",
      "processor\t: 11\n",
      "vendor_id\t: GenuineIntel\n",
      "cpu family\t: 6\n",
      "model\t\t: 151\n",
      "model name\t: 12th Gen Intel(R) Core(TM) i5-12600\n",
      "stepping\t: 5\n",
      "microcode\t: 0x1f\n",
      "cpu MHz\t\t: 3300.000\n",
      "cache size\t: 18432 KB\n",
      "physical id\t: 0\n",
      "siblings\t: 12\n",
      "core id\t\t: 5\n",
      "cpu cores\t: 6\n",
      "apicid\t\t: 11\n",
      "initial apicid\t: 11\n",
      "fpu\t\t: yes\n",
      "fpu_exception\t: yes\n",
      "cpuid level\t: 32\n",
      "wp\t\t: yes\n",
      "flags\t\t: fpu vme de pse tsc msr pae mce cx8 apic sep mtrr pge mca cmov pat pse36 clflush dts acpi mmx fxsr sse sse2 ss ht tm pbe syscall nx pdpe1gb rdtscp lm constant_tsc art arch_perfmon pebs bts rep_good nopl xtopology nonstop_tsc cpuid aperfmperf tsc_known_freq pni pclmulqdq dtes64 monitor ds_cpl vmx smx est tm2 ssse3 sdbg fma cx16 xtpr pdcm pcid sse4_1 sse4_2 x2apic movbe popcnt tsc_deadline_timer aes xsave avx f16c rdrand lahf_lm abm 3dnowprefetch cpuid_fault epb invpcid_single ssbd ibrs ibpb stibp ibrs_enhanced tpr_shadow vnmi flexpriority ept vpid ept_ad fsgsbase tsc_adjust bmi1 avx2 smep bmi2 erms invpcid rdseed adx smap clflushopt clwb intel_pt sha_ni xsaveopt xsavec xgetbv1 xsaves split_lock_detect avx_vnni dtherm ida arat pln pts hwp hwp_notify hwp_act_window hwp_epp hwp_pkg_req umip pku ospke waitpkg gfni vaes vpclmulqdq tme rdpid movdiri movdir64b fsrm md_clear serialize pconfig arch_lbr flush_l1d arch_capabilities\n",
      "vmx flags\t: vnmi preemption_timer posted_intr invvpid ept_x_only ept_ad ept_1gb flexpriority apicv tsc_offset vtpr mtf vapic ept vpid unrestricted_guest vapic_reg vid ple shadow_vmcs pml ept_mode_based_exec tsc_scaling usr_wait_pause\n",
      "bugs\t\t: spectre_v1 spectre_v2 spec_store_bypass swapgs\n",
      "bogomips\t: 6604.80\n",
      "clflush size\t: 64\n",
      "cache_alignment\t: 64\n",
      "address sizes\t: 46 bits physical, 48 bits virtual\n",
      "power management:\n",
      "\n"
     ]
    }
   ],
   "source": [
    "!cat /proc/cpuinfo"
   ]
  },
  {
   "cell_type": "code",
   "execution_count": 2,
   "metadata": {},
   "outputs": [
    {
     "name": "stdout",
     "output_type": "stream",
     "text": [
      "Mon Aug  8 09:19:04 2022       \n",
      "+-----------------------------------------------------------------------------+\n",
      "| NVIDIA-SMI 515.48.07    Driver Version: 515.48.07    CUDA Version: 11.7     |\n",
      "|-------------------------------+----------------------+----------------------+\n",
      "| GPU  Name        Persistence-M| Bus-Id        Disp.A | Volatile Uncorr. ECC |\n",
      "| Fan  Temp  Perf  Pwr:Usage/Cap|         Memory-Usage | GPU-Util  Compute M. |\n",
      "|                               |                      |               MIG M. |\n",
      "|===============================+======================+======================|\n",
      "|   0  NVIDIA A10          Off  | 00000000:01:00.0 Off |                  Off |\n",
      "|  0%   46C    P0    56W / 150W |      0MiB / 24564MiB |      2%      Default |\n",
      "|                               |                      |                  N/A |\n",
      "+-------------------------------+----------------------+----------------------+\n",
      "                                                                               \n",
      "+-----------------------------------------------------------------------------+\n",
      "| Processes:                                                                  |\n",
      "|  GPU   GI   CI        PID   Type   Process name                  GPU Memory |\n",
      "|        ID   ID                                                   Usage      |\n",
      "|=============================================================================|\n",
      "|  No running processes found                                                 |\n",
      "+-----------------------------------------------------------------------------+\n"
     ]
    }
   ],
   "source": [
    "!nvidia-smi"
   ]
  },
  {
   "cell_type": "code",
   "execution_count": 3,
   "metadata": {},
   "outputs": [],
   "source": [
    "# Завершить все процессы, использующие ГПУ в нашей ОС\n",
    "!fuser -k /dev/nvidia[0]"
   ]
  },
  {
   "cell_type": "code",
   "execution_count": null,
   "metadata": {},
   "outputs": [],
   "source": [
    "# установим AutoML фреймворк от Сбера - LightAutoML(LAMA)\n",
    "# это позволит довольно быстро проверять различные гипотезы и \n",
    "# отбирать лучшие решения\n",
    "# (устанавливаем только 1 раз)\n",
    "# !pip install -U lightautoml"
   ]
  },
  {
   "cell_type": "code",
   "execution_count": 4,
   "metadata": {},
   "outputs": [
    {
     "name": "stderr",
     "output_type": "stream",
     "text": [
      "/home/admin-gpu/anaconda3/envs/sber_lama/lib/python3.9/site-packages/tqdm/auto.py:22: TqdmWarning: IProgress not found. Please update jupyter and ipywidgets. See https://ipywidgets.readthedocs.io/en/stable/user_install.html\n",
      "  from .autonotebook import tqdm as notebook_tqdm\n"
     ]
    }
   ],
   "source": [
    "# Импортируем модули\n",
    "import os\n",
    "import time\n",
    "import re\n",
    "import joblib\n",
    "\n",
    "# уже установленные бибилотеки\n",
    "import numpy as np\n",
    "import pandas as pd\n",
    "import sklearn.metrics as sk_metrics\n",
    "from sklearn.model_selection import train_test_split\n",
    "\n",
    "# импорты из LightAutoML\n",
    "from lightautoml.automl.presets.tabular_presets import TabularAutoML, TabularUtilizedAutoML\n",
    "from lightautoml.tasks import Task"
   ]
  },
  {
   "cell_type": "code",
   "execution_count": 5,
   "metadata": {},
   "outputs": [
    {
     "data": {
      "text/html": [
       "<div>\n",
       "<style scoped>\n",
       "    .dataframe tbody tr th:only-of-type {\n",
       "        vertical-align: middle;\n",
       "    }\n",
       "\n",
       "    .dataframe tbody tr th {\n",
       "        vertical-align: top;\n",
       "    }\n",
       "\n",
       "    .dataframe thead th {\n",
       "        text-align: right;\n",
       "    }\n",
       "</style>\n",
       "<table border=\"1\" class=\"dataframe\">\n",
       "  <thead>\n",
       "    <tr style=\"text-align: right;\">\n",
       "      <th></th>\n",
       "      <th>0</th>\n",
       "      <th>1</th>\n",
       "      <th>2</th>\n",
       "      <th>3</th>\n",
       "      <th>4</th>\n",
       "      <th>5</th>\n",
       "      <th>6</th>\n",
       "      <th>7</th>\n",
       "      <th>8</th>\n",
       "      <th>9</th>\n",
       "      <th>...</th>\n",
       "      <th>22</th>\n",
       "      <th>23</th>\n",
       "      <th>24</th>\n",
       "      <th>25</th>\n",
       "      <th>26</th>\n",
       "      <th>27</th>\n",
       "      <th>28</th>\n",
       "      <th>29</th>\n",
       "      <th>30</th>\n",
       "      <th>target</th>\n",
       "    </tr>\n",
       "  </thead>\n",
       "  <tbody>\n",
       "    <tr>\n",
       "      <th>0</th>\n",
       "      <td>-6.130724</td>\n",
       "      <td>7.429628</td>\n",
       "      <td>3.651437</td>\n",
       "      <td>-1.950971</td>\n",
       "      <td>-3.384415</td>\n",
       "      <td>1.095934</td>\n",
       "      <td>-3.077774</td>\n",
       "      <td>-2.619091</td>\n",
       "      <td>5.128201</td>\n",
       "      <td>1.228476</td>\n",
       "      <td>...</td>\n",
       "      <td>0.392978</td>\n",
       "      <td>4.920467</td>\n",
       "      <td>16.610460</td>\n",
       "      <td>-2.430804</td>\n",
       "      <td>-1.405573</td>\n",
       "      <td>18.610209</td>\n",
       "      <td>-4.140715</td>\n",
       "      <td>6.027816</td>\n",
       "      <td>-20.288145</td>\n",
       "      <td>0</td>\n",
       "    </tr>\n",
       "    <tr>\n",
       "      <th>1</th>\n",
       "      <td>5.161836</td>\n",
       "      <td>-6.514011</td>\n",
       "      <td>-7.474612</td>\n",
       "      <td>-4.544336</td>\n",
       "      <td>-13.081404</td>\n",
       "      <td>1.637562</td>\n",
       "      <td>-1.094672</td>\n",
       "      <td>-1.253545</td>\n",
       "      <td>-2.955342</td>\n",
       "      <td>-10.958200</td>\n",
       "      <td>...</td>\n",
       "      <td>-4.840233</td>\n",
       "      <td>-0.514308</td>\n",
       "      <td>4.613289</td>\n",
       "      <td>2.391302</td>\n",
       "      <td>-4.795664</td>\n",
       "      <td>4.208278</td>\n",
       "      <td>-2.017168</td>\n",
       "      <td>-8.510424</td>\n",
       "      <td>10.806639</td>\n",
       "      <td>0</td>\n",
       "    </tr>\n",
       "    <tr>\n",
       "      <th>2</th>\n",
       "      <td>-2.971550</td>\n",
       "      <td>-21.508184</td>\n",
       "      <td>-1.125457</td>\n",
       "      <td>1.524129</td>\n",
       "      <td>3.027444</td>\n",
       "      <td>1.045879</td>\n",
       "      <td>1.551050</td>\n",
       "      <td>1.512075</td>\n",
       "      <td>-1.955564</td>\n",
       "      <td>3.683893</td>\n",
       "      <td>...</td>\n",
       "      <td>-0.385303</td>\n",
       "      <td>2.647917</td>\n",
       "      <td>-2.200556</td>\n",
       "      <td>1.058671</td>\n",
       "      <td>1.076312</td>\n",
       "      <td>-7.802389</td>\n",
       "      <td>-7.553953</td>\n",
       "      <td>0.636639</td>\n",
       "      <td>14.274950</td>\n",
       "      <td>0</td>\n",
       "    </tr>\n",
       "    <tr>\n",
       "      <th>3</th>\n",
       "      <td>6.724419</td>\n",
       "      <td>0.566489</td>\n",
       "      <td>0.509764</td>\n",
       "      <td>-4.524162</td>\n",
       "      <td>10.367236</td>\n",
       "      <td>2.083270</td>\n",
       "      <td>0.741790</td>\n",
       "      <td>-2.077787</td>\n",
       "      <td>-2.912744</td>\n",
       "      <td>-4.040637</td>\n",
       "      <td>...</td>\n",
       "      <td>4.731346</td>\n",
       "      <td>15.378418</td>\n",
       "      <td>-14.031666</td>\n",
       "      <td>2.659410</td>\n",
       "      <td>5.123620</td>\n",
       "      <td>-8.500321</td>\n",
       "      <td>3.417960</td>\n",
       "      <td>-14.798490</td>\n",
       "      <td>-6.132800</td>\n",
       "      <td>1</td>\n",
       "    </tr>\n",
       "    <tr>\n",
       "      <th>4</th>\n",
       "      <td>-2.213659</td>\n",
       "      <td>-4.678213</td>\n",
       "      <td>-0.135845</td>\n",
       "      <td>2.375933</td>\n",
       "      <td>0.916649</td>\n",
       "      <td>1.027195</td>\n",
       "      <td>-0.353265</td>\n",
       "      <td>-0.220609</td>\n",
       "      <td>-3.416823</td>\n",
       "      <td>-5.964181</td>\n",
       "      <td>...</td>\n",
       "      <td>1.598330</td>\n",
       "      <td>-4.996614</td>\n",
       "      <td>4.504269</td>\n",
       "      <td>1.918961</td>\n",
       "      <td>-2.076223</td>\n",
       "      <td>0.154039</td>\n",
       "      <td>-2.016779</td>\n",
       "      <td>10.803205</td>\n",
       "      <td>5.942927</td>\n",
       "      <td>0</td>\n",
       "    </tr>\n",
       "  </tbody>\n",
       "</table>\n",
       "<p>5 rows × 32 columns</p>\n",
       "</div>"
      ],
      "text/plain": [
       "          0          1         2         3          4         5         6  \\\n",
       "0 -6.130724   7.429628  3.651437 -1.950971  -3.384415  1.095934 -3.077774   \n",
       "1  5.161836  -6.514011 -7.474612 -4.544336 -13.081404  1.637562 -1.094672   \n",
       "2 -2.971550 -21.508184 -1.125457  1.524129   3.027444  1.045879  1.551050   \n",
       "3  6.724419   0.566489  0.509764 -4.524162  10.367236  2.083270  0.741790   \n",
       "4 -2.213659  -4.678213 -0.135845  2.375933   0.916649  1.027195 -0.353265   \n",
       "\n",
       "          7         8          9  ...        22         23         24  \\\n",
       "0 -2.619091  5.128201   1.228476  ...  0.392978   4.920467  16.610460   \n",
       "1 -1.253545 -2.955342 -10.958200  ... -4.840233  -0.514308   4.613289   \n",
       "2  1.512075 -1.955564   3.683893  ... -0.385303   2.647917  -2.200556   \n",
       "3 -2.077787 -2.912744  -4.040637  ...  4.731346  15.378418 -14.031666   \n",
       "4 -0.220609 -3.416823  -5.964181  ...  1.598330  -4.996614   4.504269   \n",
       "\n",
       "         25        26         27        28         29         30  target  \n",
       "0 -2.430804 -1.405573  18.610209 -4.140715   6.027816 -20.288145       0  \n",
       "1  2.391302 -4.795664   4.208278 -2.017168  -8.510424  10.806639       0  \n",
       "2  1.058671  1.076312  -7.802389 -7.553953   0.636639  14.274950       0  \n",
       "3  2.659410  5.123620  -8.500321  3.417960 -14.798490  -6.132800       1  \n",
       "4  1.918961 -2.076223   0.154039 -2.016779  10.803205   5.942927       0  \n",
       "\n",
       "[5 rows x 32 columns]"
      ]
     },
     "execution_count": 5,
     "metadata": {},
     "output_type": "execute_result"
    }
   ],
   "source": [
    "# Загрузим обучающие данные и посмотрим на них.\n",
    "train_data = pd.read_csv('data/train.csv')\n",
    "train_data.head()"
   ]
  },
  {
   "cell_type": "code",
   "execution_count": 6,
   "metadata": {},
   "outputs": [
    {
     "data": {
      "text/html": [
       "<div>\n",
       "<style scoped>\n",
       "    .dataframe tbody tr th:only-of-type {\n",
       "        vertical-align: middle;\n",
       "    }\n",
       "\n",
       "    .dataframe tbody tr th {\n",
       "        vertical-align: top;\n",
       "    }\n",
       "\n",
       "    .dataframe thead th {\n",
       "        text-align: right;\n",
       "    }\n",
       "</style>\n",
       "<table border=\"1\" class=\"dataframe\">\n",
       "  <thead>\n",
       "    <tr style=\"text-align: right;\">\n",
       "      <th></th>\n",
       "      <th>0</th>\n",
       "      <th>1</th>\n",
       "      <th>2</th>\n",
       "      <th>3</th>\n",
       "      <th>4</th>\n",
       "      <th>5</th>\n",
       "      <th>6</th>\n",
       "      <th>7</th>\n",
       "      <th>8</th>\n",
       "      <th>9</th>\n",
       "      <th>...</th>\n",
       "      <th>21</th>\n",
       "      <th>22</th>\n",
       "      <th>23</th>\n",
       "      <th>24</th>\n",
       "      <th>25</th>\n",
       "      <th>26</th>\n",
       "      <th>27</th>\n",
       "      <th>28</th>\n",
       "      <th>29</th>\n",
       "      <th>30</th>\n",
       "    </tr>\n",
       "  </thead>\n",
       "  <tbody>\n",
       "    <tr>\n",
       "      <th>0</th>\n",
       "      <td>-4.768975</td>\n",
       "      <td>-1.744984</td>\n",
       "      <td>0.069141</td>\n",
       "      <td>-6.560182</td>\n",
       "      <td>13.267557</td>\n",
       "      <td>1.768138</td>\n",
       "      <td>1.711161</td>\n",
       "      <td>-5.289421</td>\n",
       "      <td>2.682271</td>\n",
       "      <td>-2.763065</td>\n",
       "      <td>...</td>\n",
       "      <td>4.198756</td>\n",
       "      <td>-0.625212</td>\n",
       "      <td>11.053370</td>\n",
       "      <td>1.535982</td>\n",
       "      <td>0.410761</td>\n",
       "      <td>-3.754269</td>\n",
       "      <td>8.633258</td>\n",
       "      <td>0.224213</td>\n",
       "      <td>-2.310344</td>\n",
       "      <td>-20.482680</td>\n",
       "    </tr>\n",
       "    <tr>\n",
       "      <th>1</th>\n",
       "      <td>3.085184</td>\n",
       "      <td>7.679585</td>\n",
       "      <td>-2.392444</td>\n",
       "      <td>-1.334928</td>\n",
       "      <td>-17.347661</td>\n",
       "      <td>2.470484</td>\n",
       "      <td>-0.662081</td>\n",
       "      <td>-0.719648</td>\n",
       "      <td>-2.489930</td>\n",
       "      <td>-11.762400</td>\n",
       "      <td>...</td>\n",
       "      <td>-1.176409</td>\n",
       "      <td>1.365061</td>\n",
       "      <td>0.140867</td>\n",
       "      <td>-4.210869</td>\n",
       "      <td>-5.718286</td>\n",
       "      <td>-4.055603</td>\n",
       "      <td>9.264081</td>\n",
       "      <td>-4.221163</td>\n",
       "      <td>7.481250</td>\n",
       "      <td>9.426657</td>\n",
       "    </tr>\n",
       "    <tr>\n",
       "      <th>2</th>\n",
       "      <td>-1.498828</td>\n",
       "      <td>-3.945847</td>\n",
       "      <td>-1.647106</td>\n",
       "      <td>0.058655</td>\n",
       "      <td>1.204024</td>\n",
       "      <td>1.043502</td>\n",
       "      <td>5.246244</td>\n",
       "      <td>2.123335</td>\n",
       "      <td>2.851375</td>\n",
       "      <td>4.398413</td>\n",
       "      <td>...</td>\n",
       "      <td>0.301051</td>\n",
       "      <td>0.758360</td>\n",
       "      <td>0.090010</td>\n",
       "      <td>-1.550171</td>\n",
       "      <td>-0.971835</td>\n",
       "      <td>2.027758</td>\n",
       "      <td>-2.723663</td>\n",
       "      <td>0.749390</td>\n",
       "      <td>-12.130969</td>\n",
       "      <td>4.706467</td>\n",
       "    </tr>\n",
       "    <tr>\n",
       "      <th>3</th>\n",
       "      <td>-2.813839</td>\n",
       "      <td>-1.913776</td>\n",
       "      <td>1.308982</td>\n",
       "      <td>3.866011</td>\n",
       "      <td>-9.249616</td>\n",
       "      <td>2.265848</td>\n",
       "      <td>-3.257832</td>\n",
       "      <td>-2.233508</td>\n",
       "      <td>3.623846</td>\n",
       "      <td>4.665100</td>\n",
       "      <td>...</td>\n",
       "      <td>2.316560</td>\n",
       "      <td>-0.590067</td>\n",
       "      <td>-6.825693</td>\n",
       "      <td>8.512672</td>\n",
       "      <td>-3.259642</td>\n",
       "      <td>-2.297466</td>\n",
       "      <td>4.758336</td>\n",
       "      <td>-2.134407</td>\n",
       "      <td>10.448348</td>\n",
       "      <td>-5.808233</td>\n",
       "    </tr>\n",
       "    <tr>\n",
       "      <th>4</th>\n",
       "      <td>-2.098517</td>\n",
       "      <td>1.831659</td>\n",
       "      <td>2.587683</td>\n",
       "      <td>1.507983</td>\n",
       "      <td>5.421837</td>\n",
       "      <td>2.184649</td>\n",
       "      <td>1.214167</td>\n",
       "      <td>0.402367</td>\n",
       "      <td>1.256427</td>\n",
       "      <td>17.582508</td>\n",
       "      <td>...</td>\n",
       "      <td>20.077786</td>\n",
       "      <td>-2.657541</td>\n",
       "      <td>5.592968</td>\n",
       "      <td>1.339930</td>\n",
       "      <td>0.425855</td>\n",
       "      <td>2.649136</td>\n",
       "      <td>-6.496886</td>\n",
       "      <td>-0.726197</td>\n",
       "      <td>-12.478830</td>\n",
       "      <td>1.058612</td>\n",
       "    </tr>\n",
       "  </tbody>\n",
       "</table>\n",
       "<p>5 rows × 31 columns</p>\n",
       "</div>"
      ],
      "text/plain": [
       "          0         1         2         3          4         5         6  \\\n",
       "0 -4.768975 -1.744984  0.069141 -6.560182  13.267557  1.768138  1.711161   \n",
       "1  3.085184  7.679585 -2.392444 -1.334928 -17.347661  2.470484 -0.662081   \n",
       "2 -1.498828 -3.945847 -1.647106  0.058655   1.204024  1.043502  5.246244   \n",
       "3 -2.813839 -1.913776  1.308982  3.866011  -9.249616  2.265848 -3.257832   \n",
       "4 -2.098517  1.831659  2.587683  1.507983   5.421837  2.184649  1.214167   \n",
       "\n",
       "          7         8          9  ...         21        22         23  \\\n",
       "0 -5.289421  2.682271  -2.763065  ...   4.198756 -0.625212  11.053370   \n",
       "1 -0.719648 -2.489930 -11.762400  ...  -1.176409  1.365061   0.140867   \n",
       "2  2.123335  2.851375   4.398413  ...   0.301051  0.758360   0.090010   \n",
       "3 -2.233508  3.623846   4.665100  ...   2.316560 -0.590067  -6.825693   \n",
       "4  0.402367  1.256427  17.582508  ...  20.077786 -2.657541   5.592968   \n",
       "\n",
       "         24        25        26        27        28         29         30  \n",
       "0  1.535982  0.410761 -3.754269  8.633258  0.224213  -2.310344 -20.482680  \n",
       "1 -4.210869 -5.718286 -4.055603  9.264081 -4.221163   7.481250   9.426657  \n",
       "2 -1.550171 -0.971835  2.027758 -2.723663  0.749390 -12.130969   4.706467  \n",
       "3  8.512672 -3.259642 -2.297466  4.758336 -2.134407  10.448348  -5.808233  \n",
       "4  1.339930  0.425855  2.649136 -6.496886 -0.726197 -12.478830   1.058612  \n",
       "\n",
       "[5 rows x 31 columns]"
      ]
     },
     "execution_count": 6,
     "metadata": {},
     "output_type": "execute_result"
    }
   ],
   "source": [
    "# Загрузим тестовые данные и посмотрим на них.\n",
    "test_data = pd.read_csv('data/test.csv')\n",
    "test_data.head()"
   ]
  },
  {
   "cell_type": "code",
   "execution_count": 7,
   "metadata": {},
   "outputs": [
    {
     "data": {
      "text/html": [
       "<div>\n",
       "<style scoped>\n",
       "    .dataframe tbody tr th:only-of-type {\n",
       "        vertical-align: middle;\n",
       "    }\n",
       "\n",
       "    .dataframe tbody tr th {\n",
       "        vertical-align: top;\n",
       "    }\n",
       "\n",
       "    .dataframe thead th {\n",
       "        text-align: right;\n",
       "    }\n",
       "</style>\n",
       "<table border=\"1\" class=\"dataframe\">\n",
       "  <thead>\n",
       "    <tr style=\"text-align: right;\">\n",
       "      <th></th>\n",
       "      <th>target</th>\n",
       "    </tr>\n",
       "  </thead>\n",
       "  <tbody>\n",
       "    <tr>\n",
       "      <th>0</th>\n",
       "      <td>0</td>\n",
       "    </tr>\n",
       "    <tr>\n",
       "      <th>1</th>\n",
       "      <td>0</td>\n",
       "    </tr>\n",
       "    <tr>\n",
       "      <th>2</th>\n",
       "      <td>0</td>\n",
       "    </tr>\n",
       "    <tr>\n",
       "      <th>3</th>\n",
       "      <td>0</td>\n",
       "    </tr>\n",
       "    <tr>\n",
       "      <th>4</th>\n",
       "      <td>0</td>\n",
       "    </tr>\n",
       "  </tbody>\n",
       "</table>\n",
       "</div>"
      ],
      "text/plain": [
       "   target\n",
       "0       0\n",
       "1       0\n",
       "2       0\n",
       "3       0\n",
       "4       0"
      ]
     },
     "execution_count": 7,
     "metadata": {},
     "output_type": "execute_result"
    }
   ],
   "source": [
    "# Загрузим пример предсказаний и посмотрим на них.\n",
    "submission = pd.read_csv('data/sample_submission.csv')\n",
    "submission.head()"
   ]
  },
  {
   "cell_type": "code",
   "execution_count": 8,
   "metadata": {},
   "outputs": [
    {
     "name": "stdout",
     "output_type": "stream",
     "text": [
      "Parts sizes: tr_data = (5570, 32), valid_data = (1393, 32)\n"
     ]
    }
   ],
   "source": [
    "# Разобьем выборку на обучающую и валидационную\n",
    "tr_data, valid_data = train_test_split(train_data, \n",
    "                                       test_size=0.2, \n",
    "                                       stratify=train_data['target'], \n",
    "                                       random_state=42)\n",
    "\n",
    "print(f'Parts sizes: tr_data = {tr_data.shape}, valid_data = {valid_data.shape}')"
   ]
  },
  {
   "cell_type": "markdown",
   "metadata": {},
   "source": [
    "# Обзор данных"
   ]
  },
  {
   "cell_type": "code",
   "execution_count": 9,
   "metadata": {},
   "outputs": [
    {
     "data": {
      "text/plain": [
       "0         0\n",
       "1         0\n",
       "2         0\n",
       "3         0\n",
       "4         0\n",
       "5         0\n",
       "6         0\n",
       "7         0\n",
       "8         0\n",
       "9         0\n",
       "10        0\n",
       "11        0\n",
       "12        0\n",
       "13        0\n",
       "14        0\n",
       "15        0\n",
       "16        0\n",
       "17        0\n",
       "18        0\n",
       "19        0\n",
       "20        0\n",
       "21        0\n",
       "22        0\n",
       "23        0\n",
       "24        0\n",
       "25        0\n",
       "26        0\n",
       "27        0\n",
       "28        0\n",
       "29        0\n",
       "30        0\n",
       "target    0\n",
       "dtype: int64"
      ]
     },
     "execution_count": 9,
     "metadata": {},
     "output_type": "execute_result"
    }
   ],
   "source": [
    "train_data.isna().sum()"
   ]
  },
  {
   "cell_type": "code",
   "execution_count": 10,
   "metadata": {},
   "outputs": [
    {
     "data": {
      "text/plain": [
       "0     0\n",
       "1     0\n",
       "2     0\n",
       "3     0\n",
       "4     0\n",
       "5     0\n",
       "6     0\n",
       "7     0\n",
       "8     0\n",
       "9     0\n",
       "10    0\n",
       "11    0\n",
       "12    0\n",
       "13    0\n",
       "14    0\n",
       "15    0\n",
       "16    0\n",
       "17    0\n",
       "18    0\n",
       "19    0\n",
       "20    0\n",
       "21    0\n",
       "22    0\n",
       "23    0\n",
       "24    0\n",
       "25    0\n",
       "26    0\n",
       "27    0\n",
       "28    0\n",
       "29    0\n",
       "30    0\n",
       "dtype: int64"
      ]
     },
     "execution_count": 10,
     "metadata": {},
     "output_type": "execute_result"
    }
   ],
   "source": [
    "test_data.isna().sum()"
   ]
  },
  {
   "cell_type": "markdown",
   "metadata": {},
   "source": [
    "**Вывод:**  пропусков в данных нет! Отлично =)"
   ]
  },
  {
   "cell_type": "markdown",
   "metadata": {},
   "source": [
    "# Исследуем подходы и модели"
   ]
  },
  {
   "cell_type": "markdown",
   "metadata": {},
   "source": [
    "## Ставим задачу машинного обучения используем все"
   ]
  },
  {
   "cell_type": "code",
   "execution_count": 20,
   "metadata": {},
   "outputs": [],
   "source": [
    "# https://lightautoml.readthedocs.io/en/latest/python_api/generated/lightautoml.tasks.base.Task.html#lightautoml.tasks.base.Task\n",
    "task = Task('binary', loss= 'logloss', metric = 'auc')"
   ]
  },
  {
   "cell_type": "markdown",
   "metadata": {},
   "source": [
    "Не похоже чтобы колонки были категориальными оставляем просто как есть и пусть LAMA сама разберется =)\n",
    "Исключать какие либо колонки из рассмотрения тоже пока не будем."
   ]
  },
  {
   "cell_type": "code",
   "execution_count": 21,
   "metadata": {},
   "outputs": [],
   "source": [
    "roles = {'target': 'target',\n",
    "         }"
   ]
  },
  {
   "cell_type": "code",
   "execution_count": 22,
   "metadata": {},
   "outputs": [],
   "source": [
    "automl = TabularAutoML(task = task, \n",
    "                    timeout = 3600 * 3, # 3600 секунд = 1 час\n",
    "                    general_params = {'use_algos': [['cb', 'lgb', 'linear_l2']]},\n",
    "                    cb_params = {'default_params': {'task_type': 'GPU'}},\n",
    "                    reader_params = {'n_jobs': 12},\n",
    "                    timing_params ={'mode': 0}\n",
    "                    )"
   ]
  },
  {
   "cell_type": "code",
   "execution_count": 23,
   "metadata": {},
   "outputs": [
    {
     "name": "stdout",
     "output_type": "stream",
     "text": [
      "[09:43:43] Stdout logging level is DEBUG.\n",
      "[09:43:43] Task: binary\n",
      "\n",
      "[09:43:43] Start automl preset with listed constraints:\n",
      "[09:43:43] - time: 10800.00 seconds\n",
      "[09:43:43] - CPU: 4 cores\n",
      "[09:43:43] - memory: 16 GB\n",
      "\n",
      "[09:43:43] \u001b[1mTrain data shape: (5570, 32)\u001b[0m\n",
      "\n",
      "[09:43:44] Feats was rejected during automatic roles guess: []\n",
      "[09:43:44] Layer \u001b[1m1\u001b[0m train process start. Time left 10799.24 secs\n",
      "[09:43:44] Start fitting \u001b[1mLvl_0_Pipe_0_Mod_0_LinearL2\u001b[0m ...\n",
      "[09:43:44] Training params: {'tol': 1e-06, 'max_iter': 100, 'cs': [1e-05, 5e-05, 0.0001, 0.0005, 0.001, 0.005, 0.01, 0.05, 0.1, 0.5, 1, 5, 10, 50, 100, 500, 1000, 5000, 10000, 50000, 100000], 'early_stopping': 2, 'categorical_idx': [], 'embed_sizes': (), 'data_size': 31}\n",
      "[09:43:44] ===== Start working with \u001b[1mfold 0\u001b[0m for \u001b[1mLvl_0_Pipe_0_Mod_0_LinearL2\u001b[0m =====\n",
      "[09:43:44] Linear model: C = 1e-05 score = 0.9963397355163728\n",
      "[09:43:44] Linear model: C = 5e-05 score = 0.9968710642317381\n",
      "[09:43:44] Linear model: C = 0.0001 score = 0.9974142002518891\n",
      "[09:43:44] Linear model: C = 0.0005 score = 0.998551637279597\n",
      "[09:43:44] Linear model: C = 0.001 score = 0.9989727644836273\n",
      "[09:43:44] Linear model: C = 0.005 score = 0.999441120906801\n",
      "[09:43:44] Linear model: C = 0.01 score = 0.9996103589420654\n",
      "[09:43:44] Linear model: C = 0.05 score = 0.9997717254408061\n",
      "[09:43:44] Linear model: C = 0.1 score = 0.9998189546599496\n",
      "[09:43:44] Linear model: C = 0.5 score = 0.9998779911838791\n",
      "[09:43:44] Linear model: C = 1 score = 0.999893734256927\n",
      "[09:43:44] Linear model: C = 5 score = 0.9999488350125945\n",
      "[09:43:44] Linear model: C = 10 score = 0.9999488350125945\n",
      "[09:43:44] Linear model: C = 50 score = 0.9999488350125945\n",
      "[09:43:44] ===== Start working with \u001b[1mfold 1\u001b[0m for \u001b[1mLvl_0_Pipe_0_Mod_0_LinearL2\u001b[0m =====\n",
      "[09:43:44] Linear model: C = 1e-05 score = 0.9967018261964735\n",
      "[09:43:44] Linear model: C = 5e-05 score = 0.9971111460957178\n",
      "[09:43:44] Linear model: C = 0.0001 score = 0.997772355163728\n",
      "[09:43:44] Linear model: C = 0.0005 score = 0.9990318010075566\n",
      "[09:43:44] Linear model: C = 0.001 score = 0.999330919395466\n",
      "[09:43:44] Linear model: C = 0.005 score = 0.9997048173803527\n",
      "[09:43:44] Linear model: C = 0.01 score = 0.9997914042821159\n",
      "[09:43:44] Linear model: C = 0.05 score = 0.9999055415617129\n",
      "[09:43:44] Linear model: C = 0.1 score = 0.9999330919395465\n",
      "[09:43:44] Linear model: C = 0.5 score = 0.9999606423173804\n",
      "[09:43:44] Linear model: C = 1 score = 0.9999645780856423\n",
      "[09:43:44] Linear model: C = 5 score = 0.9999842569269521\n",
      "[09:43:44] Linear model: C = 10 score = 0.9999842569269521\n",
      "[09:43:44] Linear model: C = 50 score = 0.9999842569269521\n",
      "[09:43:44] ===== Start working with \u001b[1mfold 2\u001b[0m for \u001b[1mLvl_0_Pipe_0_Mod_0_LinearL2\u001b[0m =====\n",
      "[09:43:44] Linear model: C = 1e-05 score = 0.9941632556675063\n",
      "[09:43:44] Linear model: C = 5e-05 score = 0.9953400503778337\n",
      "[09:43:44] Linear model: C = 0.0001 score = 0.9961862405541562\n",
      "[09:43:44] Linear model: C = 0.0005 score = 0.9979691435768261\n",
      "[09:43:44] Linear model: C = 0.001 score = 0.9985949307304787\n",
      "[09:43:44] Linear model: C = 0.005 score = 0.9992876259445844\n",
      "[09:43:45] Linear model: C = 0.01 score = 0.9995159005037784\n",
      "[09:43:45] Linear model: C = 0.05 score = 0.9996930100755668\n",
      "[09:43:45] Linear model: C = 0.1 score = 0.9996930100755668\n",
      "[09:43:45] Linear model: C = 0.5 score = 0.9997638539042821\n",
      "[09:43:45] Linear model: C = 1 score = 0.9997874685138539\n",
      "[09:43:45] Linear model: C = 5 score = 0.9998661838790932\n",
      "[09:43:45] Linear model: C = 10 score = 0.9998661838790932\n",
      "[09:43:45] Linear model: C = 50 score = 0.9998661838790932\n",
      "[09:43:45] ===== Start working with \u001b[1mfold 3\u001b[0m for \u001b[1mLvl_0_Pipe_0_Mod_0_LinearL2\u001b[0m =====\n",
      "[09:43:45] Linear model: C = 1e-05 score = 0.9969930730478589\n",
      "[09:43:45] Linear model: C = 5e-05 score = 0.9972134760705289\n",
      "[09:43:45] Linear model: C = 0.0001 score = 0.9976031171284634\n",
      "[09:43:45] Linear model: C = 0.0005 score = 0.9985004722921915\n",
      "[09:43:45] Linear model: C = 0.001 score = 0.9986775818639798\n",
      "[09:43:45] Linear model: C = 0.005 score = 0.9990790302267002\n",
      "[09:43:45] Linear model: C = 0.01 score = 0.9992718828715366\n",
      "[09:43:45] Linear model: C = 0.05 score = 0.9995749370277077\n",
      "[09:43:45] Linear model: C = 0.1 score = 0.9996536523929471\n",
      "[09:43:45] Linear model: C = 0.5 score = 0.9998189546599496\n",
      "[09:43:45] Linear model: C = 1 score = 0.9998425692695214\n",
      "[09:43:45] Linear model: C = 5 score = 0.9998701196473552\n",
      "[09:43:45] Linear model: C = 10 score = 0.9998701196473552\n",
      "[09:43:45] Linear model: C = 50 score = 0.9998701196473552\n",
      "[09:43:45] ===== Start working with \u001b[1mfold 4\u001b[0m for \u001b[1mLvl_0_Pipe_0_Mod_0_LinearL2\u001b[0m =====\n",
      "[09:43:45] Linear model: C = 1e-05 score = 0.9960051952141058\n",
      "[09:43:45] Linear model: C = 5e-05 score = 0.996764798488665\n",
      "[09:43:45] Linear model: C = 0.0001 score = 0.9972252833753148\n",
      "[09:43:45] Linear model: C = 0.0005 score = 0.9984807934508816\n",
      "[09:43:45] Linear model: C = 0.001 score = 0.9988586272040302\n",
      "[09:43:45] Linear model: C = 0.005 score = 0.9994017632241814\n",
      "[09:43:45] Linear model: C = 0.01 score = 0.9995434508816121\n",
      "[09:43:45] Linear model: C = 0.05 score = 0.9997008816120907\n",
      "[09:43:45] Linear model: C = 0.1 score = 0.9997323677581864\n",
      "[09:43:45] Linear model: C = 0.5 score = 0.9998543765743073\n",
      "[09:43:45] Linear model: C = 1 score = 0.9998740554156172\n",
      "[09:43:45] Linear model: C = 5 score = 0.9999370277078087\n",
      "[09:43:45] Linear model: C = 10 score = 0.9999370277078087\n",
      "[09:43:45] Linear model: C = 50 score = 0.9999370277078087\n",
      "[09:43:45] Fitting \u001b[1mLvl_0_Pipe_0_Mod_0_LinearL2\u001b[0m finished. score = \u001b[1m0.9999017632241813\u001b[0m\n",
      "[09:43:45] \u001b[1mLvl_0_Pipe_0_Mod_0_LinearL2\u001b[0m fitting and predicting completed\n",
      "[09:43:45] Time left 10798.50 secs\n",
      "\n",
      "[09:43:45] Training until validation scores don't improve for 200 rounds\n",
      "[09:43:45] [100]\tvalid's auc: 0.999988\n",
      "[09:43:45] [200]\tvalid's auc: 0.999988\n",
      "[09:43:45] Early stopping, best iteration is:\n",
      "[16]\tvalid's auc: 0.999988\n",
      "[09:43:45] \u001b[1mSelector_LightGBM\u001b[0m fitting and predicting completed\n",
      "[09:43:45] Start fitting \u001b[1mLvl_0_Pipe_1_Mod_0_LightGBM\u001b[0m ...\n",
      "[09:43:45] Training params: {'task': 'train', 'learning_rate': 0.01, 'num_leaves': 32, 'feature_fraction': 0.7, 'bagging_fraction': 0.7, 'bagging_freq': 1, 'max_depth': -1, 'verbosity': -1, 'reg_alpha': 0.5, 'reg_lambda': 0.0, 'min_split_gain': 0.0, 'zero_as_missing': False, 'num_threads': 4, 'max_bin': 255, 'min_data_in_bin': 3, 'num_trees': 3000, 'early_stopping_rounds': 200, 'random_state': 42}\n",
      "[09:43:45] ===== Start working with \u001b[1mfold 0\u001b[0m for \u001b[1mLvl_0_Pipe_1_Mod_0_LightGBM\u001b[0m =====\n",
      "[09:43:45] Training until validation scores don't improve for 200 rounds\n",
      "[09:43:45] [100]\tvalid's auc: 0.999988\n",
      "[09:43:45] [200]\tvalid's auc: 0.999988\n",
      "[09:43:45] Early stopping, best iteration is:\n",
      "[16]\tvalid's auc: 0.999988\n",
      "[09:43:45] ===== Start working with \u001b[1mfold 1\u001b[0m for \u001b[1mLvl_0_Pipe_1_Mod_0_LightGBM\u001b[0m =====\n",
      "[09:43:45] Training until validation scores don't improve for 200 rounds\n",
      "[09:43:45] [100]\tvalid's auc: 1\n",
      "[09:43:45] [200]\tvalid's auc: 1\n",
      "[09:43:45] Early stopping, best iteration is:\n",
      "[1]\tvalid's auc: 1\n",
      "[09:43:45] ===== Start working with \u001b[1mfold 2\u001b[0m for \u001b[1mLvl_0_Pipe_1_Mod_0_LightGBM\u001b[0m =====\n",
      "[09:43:45] Training until validation scores don't improve for 200 rounds\n",
      "[09:43:45] [100]\tvalid's auc: 0.999994\n",
      "[09:43:45] [200]\tvalid's auc: 0.999994\n",
      "[09:43:45] Early stopping, best iteration is:\n",
      "[10]\tvalid's auc: 0.999994\n",
      "[09:43:45] ===== Start working with \u001b[1mfold 3\u001b[0m for \u001b[1mLvl_0_Pipe_1_Mod_0_LightGBM\u001b[0m =====\n",
      "[09:43:45] Training until validation scores don't improve for 200 rounds\n",
      "[09:43:45] [100]\tvalid's auc: 0.999998\n",
      "[09:43:45] [200]\tvalid's auc: 0.999998\n",
      "[09:43:45] Early stopping, best iteration is:\n",
      "[6]\tvalid's auc: 0.999998\n",
      "[09:43:45] ===== Start working with \u001b[1mfold 4\u001b[0m for \u001b[1mLvl_0_Pipe_1_Mod_0_LightGBM\u001b[0m =====\n",
      "[09:43:45] Training until validation scores don't improve for 200 rounds\n",
      "[09:43:45] [100]\tvalid's auc: 0.999986\n",
      "[09:43:45] [200]\tvalid's auc: 0.999986\n",
      "[09:43:45] Early stopping, best iteration is:\n",
      "[24]\tvalid's auc: 0.999986\n",
      "[09:43:45] Fitting \u001b[1mLvl_0_Pipe_1_Mod_0_LightGBM\u001b[0m finished. score = \u001b[1m0.9991172071788412\u001b[0m\n",
      "[09:43:45] \u001b[1mLvl_0_Pipe_1_Mod_0_LightGBM\u001b[0m fitting and predicting completed\n",
      "[09:43:45] Start fitting \u001b[1mLvl_0_Pipe_1_Mod_1_CatBoost\u001b[0m ...\n",
      "[09:43:45] Training params: {'task_type': 'GPU', 'thread_count': 4, 'random_seed': 42, 'num_trees': 500, 'learning_rate': 0.02, 'l2_leaf_reg': 0.01, 'bootstrap_type': 'Bernoulli', 'grow_policy': 'SymmetricTree', 'max_depth': 5, 'min_data_in_leaf': 1, 'one_hot_max_size': 10, 'fold_permutation_block': 1, 'boosting_type': 'Plain', 'boost_from_average': True, 'od_type': 'Iter', 'od_wait': 100, 'max_bin': 32, 'feature_border_type': 'GreedyLogSum', 'nan_mode': 'Min', 'verbose': 100, 'allow_writing_files': False, 'devices': '0'}\n",
      "[09:43:45] ===== Start working with \u001b[1mfold 0\u001b[0m for \u001b[1mLvl_0_Pipe_1_Mod_1_CatBoost\u001b[0m =====\n",
      "[09:43:45] 0:\ttest: 0.9993978\tbest: 0.9993978 (0)\ttotal: 2.97ms\tremaining: 1.48s\n"
     ]
    },
    {
     "name": "stderr",
     "output_type": "stream",
     "text": [
      "Default metric period is 5 because AUC is/are not implemented for GPU\n"
     ]
    },
    {
     "name": "stdout",
     "output_type": "stream",
     "text": [
      "[09:43:45] 100:\ttest: 0.9993978\tbest: 0.9993978 (0)\ttotal: 188ms\tremaining: 743ms\n",
      "[09:43:45] bestTest = 0.9993978143\n",
      "[09:43:45] bestIteration = 0\n",
      "[09:43:45] Shrink model to first 1 iterations.\n",
      "[09:43:45] ===== Start working with \u001b[1mfold 1\u001b[0m for \u001b[1mLvl_0_Pipe_1_Mod_1_CatBoost\u001b[0m =====\n",
      "[09:43:46] 0:\ttest: 0.9997481\tbest: 0.9997481 (0)\ttotal: 1.98ms\tremaining: 990ms\n",
      "[09:43:46] 100:\ttest: 0.9997481\tbest: 0.9997481 (0)\ttotal: 189ms\tremaining: 748ms\n",
      "[09:43:46] bestTest = 0.9997481108\n",
      "[09:43:46] bestIteration = 0\n",
      "[09:43:46] Shrink model to first 1 iterations.\n"
     ]
    },
    {
     "name": "stderr",
     "output_type": "stream",
     "text": [
      "Default metric period is 5 because AUC is/are not implemented for GPU\n"
     ]
    },
    {
     "name": "stdout",
     "output_type": "stream",
     "text": [
      "[09:43:46] ===== Start working with \u001b[1mfold 2\u001b[0m for \u001b[1mLvl_0_Pipe_1_Mod_1_CatBoost\u001b[0m =====\n",
      "[09:43:47] 0:\ttest: 0.9997875\tbest: 0.9997875 (0)\ttotal: 2.09ms\tremaining: 1.04s\n",
      "[09:43:47] 100:\ttest: 0.9997875\tbest: 0.9997875 (0)\ttotal: 189ms\tremaining: 748ms\n",
      "[09:43:47] bestTest = 0.9997874796\n",
      "[09:43:47] bestIteration = 0\n",
      "[09:43:47] Shrink model to first 1 iterations.\n"
     ]
    },
    {
     "name": "stderr",
     "output_type": "stream",
     "text": [
      "Default metric period is 5 because AUC is/are not implemented for GPU\n"
     ]
    },
    {
     "name": "stdout",
     "output_type": "stream",
     "text": [
      "[09:43:47] ===== Start working with \u001b[1mfold 3\u001b[0m for \u001b[1mLvl_0_Pipe_1_Mod_1_CatBoost\u001b[0m =====\n",
      "[09:43:48] 0:\ttest: 0.9994805\tbest: 0.9994805 (0)\ttotal: 2.72ms\tremaining: 1.36s\n"
     ]
    },
    {
     "name": "stderr",
     "output_type": "stream",
     "text": [
      "Default metric period is 5 because AUC is/are not implemented for GPU\n"
     ]
    },
    {
     "name": "stdout",
     "output_type": "stream",
     "text": [
      "[09:43:48] 100:\ttest: 0.9994805\tbest: 0.9994805 (0)\ttotal: 220ms\tremaining: 868ms\n",
      "[09:43:48] bestTest = 0.9994804859\n",
      "[09:43:48] bestIteration = 0\n",
      "[09:43:48] Shrink model to first 1 iterations.\n",
      "[09:43:48] ===== Start working with \u001b[1mfold 4\u001b[0m for \u001b[1mLvl_0_Pipe_1_Mod_1_CatBoost\u001b[0m =====\n",
      "[09:43:49] 0:\ttest: 0.9997697\tbest: 0.9997697 (0)\ttotal: 2.1ms\tremaining: 1.05s\n",
      "[09:43:49] 100:\ttest: 0.9997697\tbest: 0.9997697 (0)\ttotal: 195ms\tremaining: 771ms\n",
      "[09:43:49] bestTest = 0.9997697473\n",
      "[09:43:49] bestIteration = 0\n",
      "[09:43:49] Shrink model to first 1 iterations.\n"
     ]
    },
    {
     "name": "stderr",
     "output_type": "stream",
     "text": [
      "Default metric period is 5 because AUC is/are not implemented for GPU\n"
     ]
    },
    {
     "name": "stdout",
     "output_type": "stream",
     "text": [
      "[09:43:49] Fitting \u001b[1mLvl_0_Pipe_1_Mod_1_CatBoost\u001b[0m finished. score = \u001b[1m0.9996181517632241\u001b[0m\n",
      "[09:43:49] \u001b[1mLvl_0_Pipe_1_Mod_1_CatBoost\u001b[0m fitting and predicting completed\n",
      "[09:43:49] Time left 10794.52 secs\n",
      "\n",
      "[09:43:49] \u001b[1mLayer 1 training completed.\u001b[0m\n",
      "\n",
      "[09:43:49] Blending: optimization starts with equal weights and score \u001b[1m0.9999433249370278\u001b[0m\n",
      "[09:43:49] Blending: iteration \u001b[1m0\u001b[0m: score = \u001b[1m0.9999757556675063\u001b[0m, weights = \u001b[1m[0.05388726 0.48957258 0.4565402 ]\u001b[0m\n",
      "[09:43:49] Blending: iteration \u001b[1m1\u001b[0m: score = \u001b[1m0.9999759130982369\u001b[0m, weights = \u001b[1m[0.07359256 0.64525443 0.28115296]\u001b[0m\n",
      "[09:43:49] Blending: iteration \u001b[1m2\u001b[0m: score = \u001b[1m0.9999759130982369\u001b[0m, weights = \u001b[1m[0.07359256 0.64525443 0.28115296]\u001b[0m\n",
      "[09:43:49] Blending: no score update. Terminated\n",
      "\n",
      "[09:43:49] \u001b[1mAutoml preset training completed in 5.55 seconds\u001b[0m\n",
      "\n",
      "[09:43:49] Model description:\n",
      "Final prediction for new objects (level 0) = \n",
      "\t 0.07359 * (5 averaged models Lvl_0_Pipe_0_Mod_0_LinearL2) +\n",
      "\t 0.64525 * (5 averaged models Lvl_0_Pipe_1_Mod_0_LightGBM) +\n",
      "\t 0.28115 * (5 averaged models Lvl_0_Pipe_1_Mod_1_CatBoost) \n",
      "\n"
     ]
    }
   ],
   "source": [
    "# запускаем обучение на данных и подбор оптимальных параметров\n",
    "# из ансамбля моделей\n",
    "oof_pred = automl.fit_predict(tr_data, roles = roles, verbose=4)"
   ]
  },
  {
   "cell_type": "markdown",
   "metadata": {},
   "source": [
    "Тут некоторая тонкость использования метдов **automl.fit_predict()** и **automl.predict()**.\n",
    "\n",
    "Когда automl обучает модели методом **fit_predict()** это происходит с помощью кросс валидации (в нашем случае на 5 подвыборках из обучающей выборки). \n",
    "\n",
    "В процессе этого **automl** будет собирать статистику по фолдам, которые в данный момент являются валидационными и записывать ее.\n",
    "\n",
    "Поэтому и предсказанные значения по валидационным фолдам и полученные по ней метрики будут получены из метода automl.fit_predict(обучающая_выборка).\n",
    "\n",
    "automl.predict(данные) использует уже готовый полученный ансамбль моделей МЛ, некакого разбиения на подвыборки тут нет. Его праивльно использовать на тестовой выборке, - тех данных которые не участвовали при обучени модели.\n",
    "\n",
    "Предсказывать на automl.predict(обучающая_выборка) не правильно, таким образом мы померим метрику на тех данных на которых учили модель. А правильно делать это только на валлидационых фолдах при кросс валидации."
   ]
  },
  {
   "cell_type": "markdown",
   "metadata": {},
   "source": [
    "### Сохраним полученный ансамбль моделей в файл"
   ]
  },
  {
   "cell_type": "code",
   "execution_count": 57,
   "metadata": {},
   "outputs": [],
   "source": [
    "model_path = 'model/lightautoml_model_1.pkl'\n",
    "oof_pred_path = 'model/lightautoml_model_oof_pred_1.pkl'\n"
   ]
  },
  {
   "cell_type": "code",
   "execution_count": 26,
   "metadata": {},
   "outputs": [
    {
     "data": {
      "text/plain": [
       "['model/lightautoml_model_oof_pred_1.pkl']"
      ]
     },
     "execution_count": 26,
     "metadata": {},
     "output_type": "execute_result"
    }
   ],
   "source": [
    "# сохраним полученный ансамбль моделей и его предсказания на тестовой выборке\n",
    "joblib.dump(automl, model_path)\n",
    "joblib.dump(oof_pred, oof_pred_path)\n"
   ]
  },
  {
   "cell_type": "markdown",
   "metadata": {},
   "source": [
    "### Загрузим сохраненную ранее модель"
   ]
  },
  {
   "cell_type": "code",
   "execution_count": 58,
   "metadata": {},
   "outputs": [],
   "source": [
    "automl = joblib.load(model_path)\n",
    "oof_pred = joblib.load(oof_pred_path)"
   ]
  },
  {
   "cell_type": "code",
   "execution_count": 61,
   "metadata": {},
   "outputs": [],
   "source": [
    "# проверка полученного ансамбля на валидационной выборке\n",
    "valid_pred = automl.predict(valid_data)"
   ]
  },
  {
   "cell_type": "code",
   "execution_count": 60,
   "metadata": {},
   "outputs": [],
   "source": [
    "valid_pred = (valid_pred.data[:, 0] > 0.5).astype(int)"
   ]
  },
  {
   "cell_type": "code",
   "execution_count": 62,
   "metadata": {},
   "outputs": [
    {
     "data": {
      "text/plain": [
       "array([0.290971 , 0.4634644, 0.2914684, ..., 0.290971 , 0.290971 ,\n",
       "       0.290971 ], dtype=float32)"
      ]
     },
     "execution_count": 62,
     "metadata": {},
     "output_type": "execute_result"
    }
   ],
   "source": [
    "valid_pred.data[:, 0]"
   ]
  },
  {
   "cell_type": "code",
   "execution_count": 30,
   "metadata": {},
   "outputs": [
    {
     "data": {
      "text/plain": [
       "array([0, 0, 0, ..., 0, 0, 0])"
      ]
     },
     "execution_count": 30,
     "metadata": {},
     "output_type": "execute_result"
    }
   ],
   "source": [
    "valid_pred"
   ]
  },
  {
   "cell_type": "code",
   "execution_count": 31,
   "metadata": {},
   "outputs": [
    {
     "data": {
      "text/plain": [
       "(array([0]), array([1393]))"
      ]
     },
     "execution_count": 31,
     "metadata": {},
     "output_type": "execute_result"
    }
   ],
   "source": [
    "np.unique(valid_pred, return_counts=True)"
   ]
  },
  {
   "cell_type": "code",
   "execution_count": 33,
   "metadata": {},
   "outputs": [
    {
     "data": {
      "text/plain": [
       "array([0, 1, 0, ..., 0, 0, 0])"
      ]
     },
     "execution_count": 33,
     "metadata": {},
     "output_type": "execute_result"
    }
   ],
   "source": [
    "valid_data['target'].values"
   ]
  },
  {
   "cell_type": "code",
   "execution_count": 34,
   "metadata": {},
   "outputs": [
    {
     "data": {
      "text/plain": [
       "(array([0, 1]), array([993, 400]))"
      ]
     },
     "execution_count": 34,
     "metadata": {},
     "output_type": "execute_result"
    }
   ],
   "source": [
    "np.unique(valid_data['target'].values, return_counts=True)"
   ]
  },
  {
   "cell_type": "code",
   "execution_count": 35,
   "metadata": {},
   "outputs": [
    {
     "name": "stdout",
     "output_type": "stream",
     "text": [
      "OOF f1_score: 0.3228511530398323\n",
      "VAL f1_score: 0.0\n"
     ]
    }
   ],
   "source": [
    "# оценка полученной метрики на валидационном наборе данных\n",
    "print(f\"OOF f1_score: {sk_metrics.f1_score(tr_data['target'].values, (oof_pred.data[:, 0] > 0.5).astype(int))}\")\n",
    "print(f\"VAL f1_score: {sk_metrics.f1_score(valid_data['target'].values, valid_pred)}\")\n",
    "\n",
    "# OOF logloss: 0.6616774901077002\n",
    "# VAL logloss: 0.6617199867538972"
   ]
  },
  {
   "cell_type": "markdown",
   "metadata": {},
   "source": [
    "## Обучение модели на всей обучающей выборке и предсказание на тестовых данных (CatBoost) используем все"
   ]
  },
  {
   "cell_type": "code",
   "execution_count": 36,
   "metadata": {},
   "outputs": [],
   "source": [
    "task = Task('binary', loss= 'logloss', metric = 'auc')"
   ]
  },
  {
   "cell_type": "code",
   "execution_count": 37,
   "metadata": {},
   "outputs": [],
   "source": [
    "roles = {'target': 'target',\n",
    "         }"
   ]
  },
  {
   "cell_type": "code",
   "execution_count": 38,
   "metadata": {},
   "outputs": [],
   "source": [
    "automl = TabularAutoML(task = task, \n",
    "                    timeout = 3600 * 3, # 3600 секунд = 1 час\n",
    "                    general_params = {'use_algos': [['cb', 'lgb', 'linear_l2']]},\n",
    "                    cb_params = {'default_params': {'task_type': 'GPU'}},\n",
    "                    reader_params = {'n_jobs': 12},\n",
    "                    timing_params ={'mode': 0}\n",
    "                    )"
   ]
  },
  {
   "cell_type": "code",
   "execution_count": 39,
   "metadata": {},
   "outputs": [
    {
     "name": "stdout",
     "output_type": "stream",
     "text": [
      "[09:59:37] Stdout logging level is DEBUG.\n",
      "[09:59:37] Task: binary\n",
      "\n",
      "[09:59:37] Start automl preset with listed constraints:\n",
      "[09:59:37] - time: 10800.00 seconds\n",
      "[09:59:37] - CPU: 4 cores\n",
      "[09:59:37] - memory: 16 GB\n",
      "\n",
      "[09:59:37] \u001b[1mTrain data shape: (6963, 32)\u001b[0m\n",
      "\n",
      "[09:59:37] Feats was rejected during automatic roles guess: []\n",
      "[09:59:37] Layer \u001b[1m1\u001b[0m train process start. Time left 10799.25 secs\n",
      "[09:59:37] Start fitting \u001b[1mLvl_0_Pipe_0_Mod_0_LinearL2\u001b[0m ...\n",
      "[09:59:37] Training params: {'tol': 1e-06, 'max_iter': 100, 'cs': [1e-05, 5e-05, 0.0001, 0.0005, 0.001, 0.005, 0.01, 0.05, 0.1, 0.5, 1, 5, 10, 50, 100, 500, 1000, 5000, 10000, 50000, 100000], 'early_stopping': 2, 'categorical_idx': [], 'embed_sizes': (), 'data_size': 31}\n",
      "[09:59:37] ===== Start working with \u001b[1mfold 0\u001b[0m for \u001b[1mLvl_0_Pipe_0_Mod_0_LinearL2\u001b[0m =====\n",
      "[09:59:37] Linear model: C = 1e-05 score = 0.9973413897280967\n",
      "[09:59:37] Linear model: C = 5e-05 score = 0.9981822759315206\n",
      "[09:59:37] Linear model: C = 0.0001 score = 0.9985750251762336\n",
      "[09:59:37] Linear model: C = 0.0005 score = 0.9993152064451157\n",
      "[09:59:37] Linear model: C = 0.001 score = 0.9995342396777442\n",
      "[09:59:38] Linear model: C = 0.005 score = 0.9997532729103725\n",
      "[09:59:38] Linear model: C = 0.01 score = 0.9998111782477341\n",
      "[09:59:38] Linear model: C = 0.05 score = 0.9998917421953676\n",
      "[09:59:38] Linear model: C = 0.1 score = 0.999911883182276\n",
      "[09:59:38] Linear model: C = 0.5 score = 0.9999496475327291\n",
      "[09:59:38] Linear model: C = 1 score = 0.999967270896274\n",
      "[09:59:38] Linear model: C = 5 score = 0.9999974823766364\n",
      "[09:59:38] Linear model: C = 10 score = 0.9999974823766364\n",
      "[09:59:38] Linear model: C = 50 score = 0.9999974823766364\n",
      "[09:59:38] ===== Start working with \u001b[1mfold 1\u001b[0m for \u001b[1mLvl_0_Pipe_0_Mod_0_LinearL2\u001b[0m =====\n",
      "[09:59:38] Linear model: C = 1e-05 score = 0.9973942598187311\n",
      "[09:59:38] Linear model: C = 5e-05 score = 0.9982150050352467\n",
      "[09:59:38] Linear model: C = 0.0001 score = 0.9985926485397785\n",
      "[09:59:38] Linear model: C = 0.0005 score = 0.9993101711983887\n",
      "[09:59:38] Linear model: C = 0.001 score = 0.999408358509567\n",
      "[09:59:38] Linear model: C = 0.005 score = 0.9995871097683786\n",
      "[09:59:38] Linear model: C = 0.01 score = 0.9996701913393756\n",
      "[09:59:38] Linear model: C = 0.05 score = 0.9998363544813696\n",
      "[09:59:38] Linear model: C = 0.1 score = 0.9998917421953676\n",
      "[09:59:38] Linear model: C = 0.5 score = 0.9999345417925478\n",
      "[09:59:38] Linear model: C = 1 score = 0.9999496475327291\n",
      "[09:59:38] Linear model: C = 5 score = 0.999977341389728\n",
      "[09:59:38] Linear model: C = 10 score = 0.999977341389728\n",
      "[09:59:38] Linear model: C = 50 score = 0.999977341389728\n",
      "[09:59:38] ===== Start working with \u001b[1mfold 2\u001b[0m for \u001b[1mLvl_0_Pipe_0_Mod_0_LinearL2\u001b[0m =====\n",
      "[09:59:38] Linear model: C = 1e-05 score = 0.9963746223564955\n",
      "[09:59:38] Linear model: C = 5e-05 score = 0.9975855991943605\n",
      "[09:59:38] Linear model: C = 0.0001 score = 0.9981017119838872\n",
      "[09:59:38] Linear model: C = 0.0005 score = 0.9991565961732125\n",
      "[09:59:38] Linear model: C = 0.001 score = 0.9994335347432024\n",
      "[09:59:38] Linear model: C = 0.005 score = 0.9997230614300101\n",
      "[09:59:38] Linear model: C = 0.01 score = 0.9997708962739174\n",
      "[09:59:38] Linear model: C = 0.05 score = 0.9998665659617321\n",
      "[09:59:38] Linear model: C = 0.1 score = 0.9998942598187311\n",
      "[09:59:38] Linear model: C = 0.5 score = 0.9999244712990937\n",
      "[09:59:38] Linear model: C = 1 score = 0.9999496475327291\n",
      "[09:59:38] Linear model: C = 5 score = 0.9999748237663646\n",
      "[09:59:38] Linear model: C = 10 score = 0.9999748237663646\n",
      "[09:59:38] Linear model: C = 50 score = 0.9999748237663646\n",
      "[09:59:38] ===== Start working with \u001b[1mfold 3\u001b[0m for \u001b[1mLvl_0_Pipe_0_Mod_0_LinearL2\u001b[0m =====\n",
      "[09:59:38] Linear model: C = 1e-05 score = 0.9973034274193548\n",
      "[09:59:38] Linear model: C = 5e-05 score = 0.9979032258064516\n",
      "[09:59:38] Linear model: C = 0.0001 score = 0.9982434475806452\n",
      "[09:59:38] Linear model: C = 0.0005 score = 0.9989289314516129\n",
      "[09:59:38] Linear model: C = 0.001 score = 0.9991204637096773\n",
      "[09:59:38] Linear model: C = 0.005 score = 0.9994228830645161\n",
      "[09:59:38] Linear model: C = 0.01 score = 0.9995816532258065\n",
      "[09:59:38] Linear model: C = 0.05 score = 0.999780745967742\n",
      "[09:59:38] Linear model: C = 0.1 score = 0.9998311491935484\n",
      "[09:59:38] Linear model: C = 0.5 score = 0.9998815524193548\n",
      "[09:59:38] Linear model: C = 1 score = 0.9998891129032258\n",
      "[09:59:38] Linear model: C = 5 score = 0.9998790322580645\n",
      "[09:59:38] Linear model: C = 10 score = 0.9998790322580645\n",
      "[09:59:38] ===== Start working with \u001b[1mfold 4\u001b[0m for \u001b[1mLvl_0_Pipe_0_Mod_0_LinearL2\u001b[0m =====\n",
      "[09:59:38] Linear model: C = 1e-05 score = 0.9953704637096775\n",
      "[09:59:38] Linear model: C = 5e-05 score = 0.9967842741935484\n",
      "[09:59:38] Linear model: C = 0.0001 score = 0.9974546370967742\n",
      "[09:59:38] Linear model: C = 0.0005 score = 0.9986542338709677\n",
      "[09:59:38] Linear model: C = 0.001 score = 0.999047379032258\n",
      "[09:59:38] Linear model: C = 0.005 score = 0.9994732862903226\n",
      "[09:59:38] Linear model: C = 0.01 score = 0.9995665322580646\n",
      "[09:59:38] Linear model: C = 0.05 score = 0.9997328629032258\n",
      "[09:59:38] Linear model: C = 0.1 score = 0.999758064516129\n",
      "[09:59:38] Linear model: C = 0.5 score = 0.9998034274193549\n",
      "[09:59:38] Linear model: C = 1 score = 0.9998160282258064\n",
      "[09:59:38] Linear model: C = 5 score = 0.9998891129032258\n",
      "[09:59:38] Linear model: C = 10 score = 0.9998891129032258\n",
      "[09:59:38] Linear model: C = 50 score = 0.9998891129032258\n",
      "[09:59:38] Fitting \u001b[1mLvl_0_Pipe_0_Mod_0_LinearL2\u001b[0m finished. score = \u001b[1m0.9999461011484989\u001b[0m\n",
      "[09:59:38] \u001b[1mLvl_0_Pipe_0_Mod_0_LinearL2\u001b[0m fitting and predicting completed\n",
      "[09:59:38] Time left 10798.37 secs\n",
      "\n",
      "[09:59:38] Training until validation scores don't improve for 200 rounds\n",
      "[09:59:38] [100]\tvalid's auc: 0.99999\n",
      "[09:59:38] [200]\tvalid's auc: 0.99999\n",
      "[09:59:38] Early stopping, best iteration is:\n",
      "[8]\tvalid's auc: 0.99999\n",
      "[09:59:38] \u001b[1mSelector_LightGBM\u001b[0m fitting and predicting completed\n",
      "[09:59:38] Start fitting \u001b[1mLvl_0_Pipe_1_Mod_0_LightGBM\u001b[0m ...\n",
      "[09:59:38] Training params: {'task': 'train', 'learning_rate': 0.01, 'num_leaves': 32, 'feature_fraction': 0.7, 'bagging_fraction': 0.7, 'bagging_freq': 1, 'max_depth': -1, 'verbosity': -1, 'reg_alpha': 0.5, 'reg_lambda': 0.0, 'min_split_gain': 0.0, 'zero_as_missing': False, 'num_threads': 4, 'max_bin': 255, 'min_data_in_bin': 3, 'num_trees': 3000, 'early_stopping_rounds': 200, 'random_state': 42}\n",
      "[09:59:38] ===== Start working with \u001b[1mfold 0\u001b[0m for \u001b[1mLvl_0_Pipe_1_Mod_0_LightGBM\u001b[0m =====\n",
      "[09:59:38] Training until validation scores don't improve for 200 rounds\n",
      "[09:59:38] [100]\tvalid's auc: 0.99999\n",
      "[09:59:38] [200]\tvalid's auc: 0.99999\n",
      "[09:59:38] Early stopping, best iteration is:\n",
      "[8]\tvalid's auc: 0.99999\n",
      "[09:59:38] ===== Start working with \u001b[1mfold 1\u001b[0m for \u001b[1mLvl_0_Pipe_1_Mod_0_LightGBM\u001b[0m =====\n",
      "[09:59:38] Training until validation scores don't improve for 200 rounds\n",
      "[09:59:38] [100]\tvalid's auc: 0.999982\n",
      "[09:59:38] [200]\tvalid's auc: 0.999982\n",
      "[09:59:38] Early stopping, best iteration is:\n",
      "[3]\tvalid's auc: 0.999982\n",
      "[09:59:38] ===== Start working with \u001b[1mfold 2\u001b[0m for \u001b[1mLvl_0_Pipe_1_Mod_0_LightGBM\u001b[0m =====\n",
      "[09:59:38] Training until validation scores don't improve for 200 rounds\n",
      "[09:59:38] [100]\tvalid's auc: 0.999981\n",
      "[09:59:38] [200]\tvalid's auc: 0.999981\n",
      "[09:59:38] Early stopping, best iteration is:\n",
      "[6]\tvalid's auc: 0.999981\n",
      "[09:59:38] ===== Start working with \u001b[1mfold 3\u001b[0m for \u001b[1mLvl_0_Pipe_1_Mod_0_LightGBM\u001b[0m =====\n",
      "[09:59:38] Training until validation scores don't improve for 200 rounds\n",
      "[09:59:38] [100]\tvalid's auc: 1\n",
      "[09:59:38] [200]\tvalid's auc: 1\n",
      "[09:59:38] Early stopping, best iteration is:\n",
      "[3]\tvalid's auc: 1\n",
      "[09:59:38] ===== Start working with \u001b[1mfold 4\u001b[0m for \u001b[1mLvl_0_Pipe_1_Mod_0_LightGBM\u001b[0m =====\n",
      "[09:59:38] Training until validation scores don't improve for 200 rounds\n",
      "[09:59:38] [100]\tvalid's auc: 0.999992\n",
      "[09:59:38] [200]\tvalid's auc: 0.999992\n",
      "[09:59:38] Early stopping, best iteration is:\n",
      "[3]\tvalid's auc: 0.999992\n",
      "[09:59:38] Fitting \u001b[1mLvl_0_Pipe_1_Mod_0_LightGBM\u001b[0m finished. score = \u001b[1m0.9991489522466251\u001b[0m\n",
      "[09:59:38] \u001b[1mLvl_0_Pipe_1_Mod_0_LightGBM\u001b[0m fitting and predicting completed\n",
      "[09:59:38] Start fitting \u001b[1mLvl_0_Pipe_1_Mod_1_CatBoost\u001b[0m ...\n",
      "[09:59:38] Training params: {'task_type': 'GPU', 'thread_count': 4, 'random_seed': 42, 'num_trees': 5000, 'learning_rate': 0.035, 'l2_leaf_reg': 0.01, 'bootstrap_type': 'Bernoulli', 'grow_policy': 'SymmetricTree', 'max_depth': 5, 'min_data_in_leaf': 1, 'one_hot_max_size': 10, 'fold_permutation_block': 1, 'boosting_type': 'Plain', 'boost_from_average': True, 'od_type': 'Iter', 'od_wait': 100, 'max_bin': 32, 'feature_border_type': 'GreedyLogSum', 'nan_mode': 'Min', 'verbose': 100, 'allow_writing_files': False, 'devices': '0'}\n",
      "[09:59:38] ===== Start working with \u001b[1mfold 0\u001b[0m for \u001b[1mLvl_0_Pipe_1_Mod_1_CatBoost\u001b[0m =====\n",
      "[09:59:39] 0:\ttest: 0.9996035\tbest: 0.9996035 (0)\ttotal: 2.25ms\tremaining: 11.2s\n",
      "[09:59:39] 100:\ttest: 0.9996035\tbest: 0.9996035 (0)\ttotal: 192ms\tremaining: 9.29s\n",
      "[09:59:39] bestTest = 0.9996034801\n",
      "[09:59:39] bestIteration = 0\n",
      "[09:59:39] Shrink model to first 1 iterations.\n"
     ]
    },
    {
     "name": "stderr",
     "output_type": "stream",
     "text": [
      "Default metric period is 5 because AUC is/are not implemented for GPU\n"
     ]
    },
    {
     "name": "stdout",
     "output_type": "stream",
     "text": [
      "[09:59:39] ===== Start working with \u001b[1mfold 1\u001b[0m for \u001b[1mLvl_0_Pipe_1_Mod_1_CatBoost\u001b[0m =====\n",
      "[09:59:39] 0:\ttest: 0.9995922\tbest: 0.9995922 (0)\ttotal: 2.08ms\tremaining: 10.4s\n",
      "[09:59:40] 100:\ttest: 0.9995922\tbest: 0.9995922 (0)\ttotal: 189ms\tremaining: 9.18s\n",
      "[09:59:40] bestTest = 0.9995921552\n",
      "[09:59:40] bestIteration = 0\n",
      "[09:59:40] Shrink model to first 1 iterations.\n"
     ]
    },
    {
     "name": "stderr",
     "output_type": "stream",
     "text": [
      "Default metric period is 5 because AUC is/are not implemented for GPU\n"
     ]
    },
    {
     "name": "stdout",
     "output_type": "stream",
     "text": [
      "[09:59:40] ===== Start working with \u001b[1mfold 2\u001b[0m for \u001b[1mLvl_0_Pipe_1_Mod_1_CatBoost\u001b[0m =====\n",
      "[09:59:40] 0:\ttest: 0.9997835\tbest: 0.9997835 (0)\ttotal: 2.17ms\tremaining: 10.9s\n",
      "[09:59:40] 100:\ttest: 0.9997835\tbest: 0.9997835 (0)\ttotal: 191ms\tremaining: 9.25s\n",
      "[09:59:40] bestTest = 0.9997834861\n",
      "[09:59:40] bestIteration = 0\n",
      "[09:59:40] Shrink model to first 1 iterations.\n"
     ]
    },
    {
     "name": "stderr",
     "output_type": "stream",
     "text": [
      "Default metric period is 5 because AUC is/are not implemented for GPU\n"
     ]
    },
    {
     "name": "stdout",
     "output_type": "stream",
     "text": [
      "[09:59:40] ===== Start working with \u001b[1mfold 3\u001b[0m for \u001b[1mLvl_0_Pipe_1_Mod_1_CatBoost\u001b[0m =====\n",
      "[09:59:41] 0:\ttest: 0.9996371\tbest: 0.9996371 (0)\ttotal: 2.16ms\tremaining: 10.8s\n",
      "[09:59:41] 100:\ttest: 0.9996371\tbest: 0.9996371 (0)\ttotal: 186ms\tremaining: 9.04s\n",
      "[09:59:41] bestTest = 0.9996370971\n",
      "[09:59:41] bestIteration = 0\n",
      "[09:59:41] Shrink model to first 1 iterations.\n"
     ]
    },
    {
     "name": "stderr",
     "output_type": "stream",
     "text": [
      "Default metric period is 5 because AUC is/are not implemented for GPU\n"
     ]
    },
    {
     "name": "stdout",
     "output_type": "stream",
     "text": [
      "[09:59:41] ===== Start working with \u001b[1mfold 4\u001b[0m for \u001b[1mLvl_0_Pipe_1_Mod_1_CatBoost\u001b[0m =====\n",
      "[09:59:42] 0:\ttest: 0.9995665\tbest: 0.9995665 (0)\ttotal: 2.3ms\tremaining: 11.5s\n",
      "[09:59:42] 100:\ttest: 0.9995665\tbest: 0.9995665 (0)\ttotal: 190ms\tremaining: 9.21s\n",
      "[09:59:42] bestTest = 0.9995665252\n",
      "[09:59:42] bestIteration = 0\n",
      "[09:59:42] Shrink model to first 1 iterations.\n"
     ]
    },
    {
     "name": "stderr",
     "output_type": "stream",
     "text": [
      "Default metric period is 5 because AUC is/are not implemented for GPU\n"
     ]
    },
    {
     "name": "stdout",
     "output_type": "stream",
     "text": [
      "[09:59:42] Fitting \u001b[1mLvl_0_Pipe_1_Mod_1_CatBoost\u001b[0m finished. score = \u001b[1m0.9996237154946604\u001b[0m\n",
      "[09:59:42] \u001b[1mLvl_0_Pipe_1_Mod_1_CatBoost\u001b[0m fitting and predicting completed\n",
      "[09:59:42] Time left 10794.56 secs\n",
      "\n",
      "[09:59:42] \u001b[1mLayer 1 training completed.\u001b[0m\n",
      "\n",
      "[09:59:42] Blending: optimization starts with equal weights and score \u001b[1m0.9999607092484384\u001b[0m\n",
      "[09:59:42] Blending: iteration \u001b[1m0\u001b[0m: score = \u001b[1m0.9999842836993755\u001b[0m, weights = \u001b[1m[0.05107727 0.5161891  0.43273363]\u001b[0m\n",
      "[09:59:42] Blending: iteration \u001b[1m1\u001b[0m: score = \u001b[1m0.9999842836993755\u001b[0m, weights = \u001b[1m[0.05107727 0.5161891  0.43273363]\u001b[0m\n",
      "[09:59:42] Blending: no score update. Terminated\n",
      "\n",
      "[09:59:42] \u001b[1mAutoml preset training completed in 5.51 seconds\u001b[0m\n",
      "\n",
      "[09:59:42] Model description:\n",
      "Final prediction for new objects (level 0) = \n",
      "\t 0.05108 * (5 averaged models Lvl_0_Pipe_0_Mod_0_LinearL2) +\n",
      "\t 0.51619 * (5 averaged models Lvl_0_Pipe_1_Mod_0_LightGBM) +\n",
      "\t 0.43273 * (5 averaged models Lvl_0_Pipe_1_Mod_1_CatBoost) \n",
      "\n"
     ]
    }
   ],
   "source": [
    "# обучение этим подходом на всех имеющиеся обучающих данных\n",
    "oof_pred = automl.fit_predict(train_data, roles = roles, verbose=4)"
   ]
  },
  {
   "cell_type": "markdown",
   "metadata": {},
   "source": [
    "### Сохраним полученный ансамбль моделей в файл"
   ]
  },
  {
   "cell_type": "code",
   "execution_count": 40,
   "metadata": {},
   "outputs": [],
   "source": [
    "model_path = 'model/lightautoml_model_final_2.pkl'\n",
    "oof_pred_path = 'model/lightautoml_model_oof_pred_final_2.pkl'"
   ]
  },
  {
   "cell_type": "code",
   "execution_count": 41,
   "metadata": {},
   "outputs": [
    {
     "data": {
      "text/plain": [
       "['model/lightautoml_model_oof_pred_final_2.pkl']"
      ]
     },
     "execution_count": 41,
     "metadata": {},
     "output_type": "execute_result"
    }
   ],
   "source": [
    "# сохраним полученный ансамбль моделей и его предсказания на тестовой выборке\n",
    "joblib.dump(automl, model_path)\n",
    "joblib.dump(oof_pred, oof_pred_path) "
   ]
  },
  {
   "cell_type": "markdown",
   "metadata": {},
   "source": [
    "### Загрузим сохраненую ранее модель из файла"
   ]
  },
  {
   "cell_type": "code",
   "execution_count": 42,
   "metadata": {},
   "outputs": [],
   "source": [
    "automl = joblib.load(model_path)\n",
    "oof_pred = joblib.load(oof_pred_path)"
   ]
  },
  {
   "cell_type": "code",
   "execution_count": 44,
   "metadata": {},
   "outputs": [
    {
     "name": "stdout",
     "output_type": "stream",
     "text": [
      "FULL f1_score: 0.0\n"
     ]
    }
   ],
   "source": [
    "# оценка полученной метрики на всем наборе данных\n",
    "print(f\"FULL f1_score: {sk_metrics.f1_score(train_data['target'].values, (oof_pred.data[:, 0] > 0.5).astype(int))}\")"
   ]
  },
  {
   "cell_type": "markdown",
   "metadata": {},
   "source": [
    "### Предскажем на тестовой выборке"
   ]
  },
  {
   "cell_type": "code",
   "execution_count": 45,
   "metadata": {},
   "outputs": [],
   "source": [
    "# предсказание ансамблем моделей на тестовых данных\n",
    "test_pred = automl.predict(test_data)"
   ]
  },
  {
   "cell_type": "code",
   "execution_count": null,
   "metadata": {},
   "outputs": [],
   "source": []
  },
  {
   "cell_type": "markdown",
   "metadata": {},
   "source": [
    "### Сделаем файл sabmita"
   ]
  },
  {
   "cell_type": "code",
   "execution_count": 49,
   "metadata": {},
   "outputs": [],
   "source": [
    "submission_path = 'submission/lightautoml_model_final_submission_2.csv'"
   ]
  },
  {
   "cell_type": "code",
   "execution_count": 50,
   "metadata": {},
   "outputs": [],
   "source": [
    "submission['target'] = (test_pred.data[:, 0] > 0.5).astype(int)"
   ]
  },
  {
   "cell_type": "code",
   "execution_count": 51,
   "metadata": {},
   "outputs": [
    {
     "data": {
      "text/html": [
       "<div>\n",
       "<style scoped>\n",
       "    .dataframe tbody tr th:only-of-type {\n",
       "        vertical-align: middle;\n",
       "    }\n",
       "\n",
       "    .dataframe tbody tr th {\n",
       "        vertical-align: top;\n",
       "    }\n",
       "\n",
       "    .dataframe thead th {\n",
       "        text-align: right;\n",
       "    }\n",
       "</style>\n",
       "<table border=\"1\" class=\"dataframe\">\n",
       "  <thead>\n",
       "    <tr style=\"text-align: right;\">\n",
       "      <th></th>\n",
       "      <th>target</th>\n",
       "    </tr>\n",
       "  </thead>\n",
       "  <tbody>\n",
       "    <tr>\n",
       "      <th>0</th>\n",
       "      <td>0</td>\n",
       "    </tr>\n",
       "    <tr>\n",
       "      <th>1</th>\n",
       "      <td>0</td>\n",
       "    </tr>\n",
       "    <tr>\n",
       "      <th>2</th>\n",
       "      <td>0</td>\n",
       "    </tr>\n",
       "    <tr>\n",
       "      <th>3</th>\n",
       "      <td>0</td>\n",
       "    </tr>\n",
       "    <tr>\n",
       "      <th>4</th>\n",
       "      <td>0</td>\n",
       "    </tr>\n",
       "  </tbody>\n",
       "</table>\n",
       "</div>"
      ],
      "text/plain": [
       "   target\n",
       "0       0\n",
       "1       0\n",
       "2       0\n",
       "3       0\n",
       "4       0"
      ]
     },
     "execution_count": 51,
     "metadata": {},
     "output_type": "execute_result"
    }
   ],
   "source": [
    "submission.head()"
   ]
  },
  {
   "cell_type": "code",
   "execution_count": 52,
   "metadata": {},
   "outputs": [],
   "source": [
    "submission.to_csv(submission_path, index = False)"
   ]
  },
  {
   "cell_type": "code",
   "execution_count": 53,
   "metadata": {},
   "outputs": [
    {
     "data": {
      "text/plain": [
       "True"
      ]
     },
     "execution_count": 53,
     "metadata": {},
     "output_type": "execute_result"
    }
   ],
   "source": [
    "# совпадают ли количество рядов у таблицы нашего предсказания\n",
    "# и \"sample_submission.csv\"\n",
    "len(submission)==len(submission)"
   ]
  }
 ],
 "metadata": {
  "kernelspec": {
   "display_name": "Python 3.9.7 ('sber_lama')",
   "language": "python",
   "name": "python3"
  },
  "language_info": {
   "codemirror_mode": {
    "name": "ipython",
    "version": 3
   },
   "file_extension": ".py",
   "mimetype": "text/x-python",
   "name": "python",
   "nbconvert_exporter": "python",
   "pygments_lexer": "ipython3",
   "version": "3.9.12"
  },
  "orig_nbformat": 4,
  "vscode": {
   "interpreter": {
    "hash": "901158d8cd2db934fb9192b2a062c20c24f00bed87efea9fcd6e00355046a3d1"
   }
  }
 },
 "nbformat": 4,
 "nbformat_minor": 2
}
